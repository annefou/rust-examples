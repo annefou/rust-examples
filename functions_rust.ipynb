{
 "cells": [
  {
   "cell_type": "markdown",
   "metadata": {},
   "source": [
    "# \"Advanced\" Rust\n",
    "\n",
    "## Functions\n",
    "Functions are declared using the fn keyword. Its arguments are type annotated, just like variables, and, if the function returns a value, the return type must be specified after an arrow ->.\n",
    "\n",
    "The final expression in the function will be used as return value. Alternatively, the return statement can be used to return a value earlier from within the function, even from inside loops or if statements.\n",
    "\n",
    "Let's rewrite FizzBuzz using functions!"
   ]
  },
  {
   "cell_type": "code",
   "execution_count": 3,
   "metadata": {},
   "outputs": [
    {
     "name": "stdout",
     "output_type": "stream",
     "text": [
      "1\n",
      "2\n",
      "fizz\n",
      "4\n",
      "buzz\n",
      "fizz\n",
      "7\n",
      "8\n",
      "fizz\n",
      "buzz\n",
      "11\n",
      "fizz\n",
      "13\n",
      "14\n",
      "fizzbuzz\n",
      "16\n",
      "17\n",
      "fizz\n",
      "19\n",
      "buzz\n",
      "fizz\n",
      "22\n",
      "23\n",
      "fizz\n",
      "buzz\n",
      "26\n",
      "fizz\n",
      "28\n",
      "29\n",
      "fizzbuzz\n",
      "31\n",
      "32\n",
      "fizz\n",
      "34\n",
      "buzz\n",
      "fizz\n",
      "37\n",
      "38\n",
      "fizz\n",
      "buzz\n",
      "41\n",
      "fizz\n",
      "43\n",
      "44\n",
      "fizzbuzz\n",
      "46\n",
      "47\n",
      "fizz\n",
      "49\n",
      "buzz\n",
      "fizz\n",
      "52\n",
      "53\n",
      "fizz\n",
      "buzz\n",
      "56\n",
      "fizz\n",
      "58\n",
      "59\n",
      "fizzbuzz\n",
      "61\n",
      "62\n",
      "fizz\n",
      "64\n",
      "buzz\n",
      "fizz\n",
      "67\n",
      "68\n",
      "fizz\n",
      "buzz\n",
      "71\n",
      "fizz\n",
      "73\n",
      "74\n",
      "fizzbuzz\n",
      "76\n",
      "77\n",
      "fizz\n",
      "79\n",
      "buzz\n",
      "fizz\n",
      "82\n",
      "83\n",
      "fizz\n",
      "buzz\n",
      "86\n",
      "fizz\n",
      "88\n",
      "89\n",
      "fizzbuzz\n",
      "91\n",
      "92\n",
      "fizz\n",
      "94\n",
      "buzz\n",
      "fizz\n",
      "97\n",
      "98\n",
      "fizz\n",
      "buzz\n"
     ]
    }
   ],
   "source": [
    "// Unlike C/C++, there's no restriction on the order of function definitions\n",
    "\n",
    "// We can use this function here, and define it somewhere later\n",
    "fizzbuzz_to(100);\n",
    "\n",
    "// Function that returns a boolean value\n",
    "fn is_divisible_by(lhs: u32, rhs: u32) -> bool {\n",
    "    // Corner case, early return\n",
    "    if rhs == 0 {\n",
    "        return false;\n",
    "    }\n",
    "\n",
    "    // This is an expression, the `return` keyword is not necessary here\n",
    "    lhs % rhs == 0\n",
    "}\n",
    "\n",
    "// Functions that \"don't\" return a value, actually return the unit type `()`\n",
    "fn fizzbuzz(n: u32) -> () {\n",
    "    if is_divisible_by(n, 15) {\n",
    "        println!(\"fizzbuzz\");\n",
    "    } else if is_divisible_by(n, 3) {\n",
    "        println!(\"fizz\");\n",
    "    } else if is_divisible_by(n, 5) {\n",
    "        println!(\"buzz\");\n",
    "    } else {\n",
    "        println!(\"{}\", n);\n",
    "    }\n",
    "}\n",
    "\n",
    "// When a function returns `()`, the return type can be omitted from the\n",
    "// signature\n",
    "fn fizzbuzz_to(n: u32) {\n",
    "    for n in 1..n + 1 {\n",
    "        fizzbuzz(n);\n",
    "    }\n",
    "}\n"
   ]
  },
  {
   "cell_type": "markdown",
   "metadata": {},
   "source": [
    "## Methods\n",
    "Methods are functions attached to objects. These methods have access to the data of the object and its other methods via the self keyword. Methods are defined under an impl block."
   ]
  },
  {
   "cell_type": "code",
   "execution_count": 4,
   "metadata": {},
   "outputs": [],
   "source": [
    "struct Point {\n",
    "    x: f64,\n",
    "    y: f64,\n",
    "}\n",
    "\n",
    "// Implementation block, all `Point` methods go in here\n",
    "impl Point {\n",
    "    // This is a static method\n",
    "    // Static methods don't need to be called by an instance\n",
    "    // These methods are generally used as constructors\n",
    "    fn origin() -> Point {\n",
    "        Point { x: 0.0, y: 0.0 }\n",
    "    }\n",
    "\n",
    "    // Another static method, taking two arguments:\n",
    "    fn new(x: f64, y: f64) -> Point {\n",
    "        Point { x: x, y: y }\n",
    "    }\n",
    "}\n",
    "\n",
    "struct Rectangle {\n",
    "    p1: Point,\n",
    "    p2: Point,\n",
    "}\n",
    "\n",
    "impl Rectangle {\n",
    "    // This is an instance method\n",
    "    // `&self` is sugar for `self: &Self`, where `Self` is the type of the\n",
    "    // caller object. In this case `Self` = `Rectangle`\n",
    "    fn area(&self) -> f64 {\n",
    "        // `self` gives access to the struct fields via the dot operator\n",
    "        let Point { x: x1, y: y1 } = self.p1;\n",
    "        let Point { x: x2, y: y2 } = self.p2;\n",
    "\n",
    "        // `abs` is a `f64` method that returns the absolute value of the\n",
    "        // caller\n",
    "        ((x1 - x2) * (y1 - y2)).abs()\n",
    "    }\n",
    "\n",
    "    fn perimeter(&self) -> f64 {\n",
    "        let Point { x: x1, y: y1 } = self.p1;\n",
    "        let Point { x: x2, y: y2 } = self.p2;\n",
    "\n",
    "        2.0 * ((x1 - x2).abs() + (y1 - y2).abs())\n",
    "    }\n",
    "\n",
    "    // This method requires the caller object to be mutable\n",
    "    // `&mut self` desugars to `self: &mut Self`\n",
    "    fn translate(&mut self, x: f64, y: f64) {\n",
    "        self.p1.x += x;\n",
    "        self.p2.x += x;\n",
    "\n",
    "        self.p1.y += y;\n",
    "        self.p2.y += y;\n",
    "    }\n",
    "}\n",
    "\n",
    "// `Pair` owns resources: two heap allocated integers\n",
    "struct Pair(Box<i32>, Box<i32>);\n",
    "\n",
    "impl Pair {\n",
    "    // This method \"consumes\" the resources of the caller object\n",
    "    // `self` desugars to `self: Self`\n",
    "    fn destroy(self) {\n",
    "        // Destructure `self`\n",
    "        let Pair(first, second) = self;\n",
    "\n",
    "        println!(\"Destroying Pair({}, {})\", first, second);\n",
    "\n",
    "        // `first` and `second` go out of scope and get freed\n",
    "    }\n",
    "}"
   ]
  },
  {
   "cell_type": "code",
   "execution_count": 5,
   "metadata": {},
   "outputs": [
    {
     "name": "stdout",
     "output_type": "stream",
     "text": [
      "Rectangle perimeter: 14\n",
      "Rectangle area: 12\n",
      "Destroying Pair(1, 2)\n"
     ]
    }
   ],
   "source": [
    "let rectangle = Rectangle {\n",
    "    // Static methods are called using double colons\n",
    "    p1: Point::origin(),\n",
    "    p2: Point::new(3.0, 4.0),\n",
    "};\n",
    "\n",
    "// Instance methods are called using the dot operator\n",
    "// Note that the first argument `&self` is implicitly passed, i.e.\n",
    "// `rectangle.perimeter()` === `Rectangle::perimeter(&rectangle)`\n",
    "println!(\"Rectangle perimeter: {}\", rectangle.perimeter());\n",
    "println!(\"Rectangle area: {}\", rectangle.area());\n",
    "\n",
    "let mut square = Rectangle {\n",
    "    p1: Point::origin(),\n",
    "    p2: Point::new(1.0, 1.0),\n",
    "};\n",
    "\n",
    "// Error! `rectangle` is immutable, but this method requires a mutable\n",
    "// object\n",
    "//rectangle.translate(1.0, 0.0);\n",
    "// TODO ^ Try uncommenting this line\n",
    "\n",
    "// Okay! Mutable objects can call mutable methods\n",
    "square.translate(1.0, 1.0);\n",
    "\n",
    "let pair = Pair(Box::new(1), Box::new(2));\n",
    "\n",
    "pair.destroy();\n",
    "\n",
    "// Error! Previous `destroy` call \"consumed\" `pair`\n",
    "//pair.destroy();\n",
    "// TODO ^ Try uncommenting this line"
   ]
  },
  {
   "cell_type": "markdown",
   "metadata": {},
   "source": [
    "### Higher Order Functions\n",
    "Rust provides Higher Order Functions (HOF). These are functions that take one or more functions and/or produce a more useful function. HOFs and lazy iterators give Rust its functional flavor."
   ]
  },
  {
   "cell_type": "code",
   "execution_count": 9,
   "metadata": {},
   "outputs": [
    {
     "name": "stdout",
     "output_type": "stream",
     "text": [
      "Find the sum of all the squared odd numbers under 1000\n",
      "imperative style: 5456\n",
      "functional style: 5456\n"
     ]
    }
   ],
   "source": [
    "fn is_odd(n: u32) -> bool {\n",
    "    n % 2 == 1\n",
    "}\n",
    "\n",
    "println!(\"Find the sum of all the squared odd numbers under 1000\");\n",
    "let upper = 1000;\n",
    "\n",
    "// Imperative approach\n",
    "// Declare accumulator variable\n",
    "let mut acc = 0;\n",
    "// Iterate: 0, 1, 2, ... to infinity\n",
    "for n in 0.. {\n",
    "    // Square the number\n",
    "    let n_squared = n * n;\n",
    "\n",
    "    if n_squared >= upper {\n",
    "        // Break loop if exceeded the upper limit\n",
    "        break;\n",
    "    } else if is_odd(n_squared) {\n",
    "        // Accumulate value, if it's odd\n",
    "        acc += n_squared;\n",
    "    }\n",
    "}\n",
    "println!(\"imperative style: {}\", acc);\n",
    "\n",
    "// Functional approach\n",
    "let sum_of_squared_odd_numbers: u32 =\n",
    "    (0..).map(|n| n * n)                             // All natural numbers squared\n",
    "            .take_while(|&n_squared| n_squared < upper) // Below upper limit\n",
    "            .filter(|&n_squared| is_odd(n_squared))     // That are odd\n",
    "            .fold(0, |acc, n_squared| acc + n_squared); // Sum them\n",
    "println!(\"functional style: {}\", sum_of_squared_odd_numbers);"
   ]
  },
  {
   "cell_type": "markdown",
   "metadata": {},
   "source": [
    "### Diverging functions\n",
    "Diverging functions never return. They are marked using !, which is an empty type."
   ]
  },
  {
   "cell_type": "code",
   "execution_count": 11,
   "metadata": {},
   "outputs": [],
   "source": [
    "fn foo() -> ! {\n",
    "    panic!(\"This call never returns.\");\n",
    "}"
   ]
  },
  {
   "cell_type": "markdown",
   "metadata": {},
   "source": [
    "As opposed to all the other types, this one cannot be instantiated, because the set of all possible values this type can have is empty. Note that, it is different from the () type, which has exactly one possible value.\n",
    "\n",
    "For example, this function returns as usual, although there is no information in the return value."
   ]
  },
  {
   "cell_type": "code",
   "execution_count": 12,
   "metadata": {},
   "outputs": [
    {
     "name": "stdout",
     "output_type": "stream",
     "text": [
      "This function returns and you can see this line.\n"
     ]
    },
    {
     "data": {
      "text/plain": [
       "()"
      ]
     },
     "execution_count": 12,
     "metadata": {},
     "output_type": "execute_result"
    }
   ],
   "source": [
    "fn some_fn() {\n",
    "    ()\n",
    "}\n",
    "\n",
    "fn main() {\n",
    "    let a: () = some_fn();\n",
    "    println!(\"This function returns and you can see this line.\")\n",
    "}\n",
    "\n",
    "main()"
   ]
  },
  {
   "cell_type": "code",
   "execution_count": 13,
   "metadata": {},
   "outputs": [
    {
     "ename": "Error",
     "evalue": "the `!` type is experimental",
     "output_type": "error",
     "traceback": [
      "let x: ! = panic!(\"This call never returns.\");",
      "       ^ ",
      "the `!` type is experimental"
     ]
    },
    {
     "ename": "Error",
     "evalue": "unreachable statement",
     "output_type": "error",
     "traceback": [
      "println!(\"You will never see this line!\");",
      "^^^^^^^^^^^^^^^^^^^^^^^^^^^^^^^^^^^^^^^^^^ unreachable statement",
      "let x: ! = panic!(\"This call never returns.\");",
      "           ^^^^^^^^^^^^^^^^^^^^^^^^^^^^^^^^^^ any code following this expression is unreachable",
      "unreachable statement"
     ]
    }
   ],
   "source": [
    "let x: ! = panic!(\"This call never returns.\");\n",
    "println!(\"You will never see this line!\");"
   ]
  },
  {
   "cell_type": "code",
   "execution_count": 15,
   "metadata": {},
   "outputs": [
    {
     "name": "stdout",
     "output_type": "stream",
     "text": [
      "Sum of odd numbers up to 9 (excluding): 16\n"
     ]
    }
   ],
   "source": [
    "fn sum_odd_numbers(up_to: u32) -> u32 {\n",
    "    let mut acc = 0;\n",
    "    for i in 0..up_to {\n",
    "        // Notice that the return type of this match expression must be u32\n",
    "        // because of the type of the \"addition\" variable.\n",
    "        let addition: u32 = match i%2 == 1 {\n",
    "            // The \"i\" variable is of type u32, which is perfectly fine.\n",
    "            true => i,\n",
    "            // On the other hand, the \"continue\" expression does not return\n",
    "            // u32, but it is still fine, because it never returns and therefore\n",
    "            // does not violate the type requirements of the match expression.\n",
    "            false => continue,\n",
    "        };\n",
    "        acc += addition;\n",
    "    }\n",
    "    acc\n",
    "}\n",
    "println!(\"Sum of odd numbers up to 9 (excluding): {}\", sum_odd_numbers(9));"
   ]
  },
  {
   "cell_type": "code",
   "execution_count": null,
   "metadata": {},
   "outputs": [],
   "source": []
  }
 ],
 "metadata": {
  "kernelspec": {
   "display_name": "Rust",
   "language": "rust",
   "name": "rust"
  },
  "language_info": {
   "codemirror_mode": "rust",
   "file_extension": ".rs",
   "mimetype": "text/rust",
   "name": "Rust",
   "pygment_lexer": "rust",
   "version": ""
  }
 },
 "nbformat": 4,
 "nbformat_minor": 4
}
