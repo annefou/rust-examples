{
 "cells": [
  {
   "cell_type": "markdown",
   "metadata": {},
   "source": [
    "# Rust by example\n",
    "\n",
    "- Reference: https://doc.rust-lang.org/rust-by-example/"
   ]
  },
  {
   "cell_type": "markdown",
   "metadata": {},
   "source": [
    "## Hello World \n",
    "\n",
    "- Start with a traditional Hello World program."
   ]
  },
  {
   "cell_type": "code",
   "execution_count": 5,
   "metadata": {},
   "outputs": [
    {
     "name": "stdout",
     "output_type": "stream",
     "text": [
      "Hello World!\n"
     ]
    }
   ],
   "source": [
    "println!(\"Hello World!\");"
   ]
  },
  {
   "cell_type": "markdown",
   "metadata": {},
   "source": [
    "## Primitives\n",
    "\n",
    "- Rust provides access to a wide variety of primitives. A sample includes:\n",
    "\n",
    "### Scalar Types"
   ]
  },
  {
   "cell_type": "code",
   "execution_count": 8,
   "metadata": {},
   "outputs": [],
   "source": [
    "// Variables can be type annotated.\n",
    "let logical: bool = true;\n",
    "\n",
    "let a_float: f64 = 1.0;  // Regular annotation\n",
    "let an_integer   = 5i32; // Suffix annotation\n",
    "\n",
    "// Or a default will be used.\n",
    "let default_float   = 3.0; // `f64`\n",
    "let default_integer = 7;   // `i32`\n",
    "    \n",
    "// A type can also be inferred from context \n",
    "let mut inferred_type = 12; // Type i64 is inferred from another line\n",
    "inferred_type = 4294967296i64;\n",
    "    \n",
    "// A mutable variable's value can be changed.\n",
    "let mut mutable = 12; // Mutable `i32`\n",
    "mutable = 21;\n",
    "    \n",
    "    \n",
    "// Variables can be overwritten with shadowing.\n",
    "let mutable = true;\n"
   ]
  },
  {
   "cell_type": "markdown",
   "metadata": {},
   "source": [
    "**The type of a variable cannot be changed!**"
   ]
  },
  {
   "cell_type": "code",
   "execution_count": 10,
   "metadata": {},
   "outputs": [
    {
     "ename": "Error",
     "evalue": "mismatched types",
     "output_type": "error",
     "traceback": [
      "mutable = true;",
      "          ^^^^ expected integer, found `bool`",
      "mismatched types"
     ]
    }
   ],
   "source": [
    "let mut mutable = 12;\n",
    "// Error! The type of a variable can't be changed.\n",
    "mutable = true;"
   ]
  },
  {
   "cell_type": "markdown",
   "metadata": {},
   "source": [
    "### Compound types"
   ]
  },
  {
   "cell_type": "code",
   "execution_count": 13,
   "metadata": {},
   "outputs": [
    {
     "data": {
      "text/plain": [
       "[1, 2, 3]"
      ]
     },
     "execution_count": 13,
     "metadata": {},
     "output_type": "execute_result"
    }
   ],
   "source": [
    "// Array\n",
    "dset = [1, 2, 3]"
   ]
  },
  {
   "cell_type": "code",
   "execution_count": 14,
   "metadata": {},
   "outputs": [
    {
     "data": {
      "text/plain": [
       "(1, true)"
      ]
     },
     "execution_count": 14,
     "metadata": {},
     "output_type": "execute_result"
    }
   ],
   "source": [
    "// Tuple\n",
    "tpl = (1, true)"
   ]
  },
  {
   "cell_type": "markdown",
   "metadata": {},
   "source": [
    "## Custom Types\n",
    "\n",
    "### Structures\n",
    "There are three types of structures (\"structs\") that can be created using the struct keyword:\n",
    "\n",
    "- Tuple structs, which are, basically, named tuples.\n",
    "- The classic C structs\n",
    "- Unit structs, which are field-less, are useful for generics."
   ]
  },
  {
   "cell_type": "code",
   "execution_count": 15,
   "metadata": {},
   "outputs": [],
   "source": [
    "#[derive(Debug)]\n",
    "struct Person {\n",
    "    name: String,\n",
    "    age: u8,\n",
    "}\n",
    "\n",
    "// A unit struct\n",
    "struct Unit;\n",
    "\n",
    "// A tuple struct\n",
    "struct Pair(i32, f32);\n",
    "\n",
    "// A struct with two fields\n",
    "struct Point {\n",
    "    x: f32,\n",
    "    y: f32,\n",
    "}\n",
    "\n",
    "// Structs can be reused as fields of another struct\n",
    "#[allow(dead_code)]\n",
    "struct Rectangle {\n",
    "    // A rectangle can be specified by where the top left and bottom right\n",
    "    // corners are in space.\n",
    "    top_left: Point,\n",
    "    bottom_right: Point,\n",
    "}\n"
   ]
  },
  {
   "cell_type": "code",
   "execution_count": 16,
   "metadata": {},
   "outputs": [
    {
     "name": "stdout",
     "output_type": "stream",
     "text": [
      "Person { name: \"Peter\", age: 27 }\n",
      "point coordinates: (10.3, 0.4)\n",
      "second point: (5.2, 0.4)\n",
      "pair contains 1 and 0.1\n",
      "pair contains 1 and 0.1\n"
     ]
    }
   ],
   "source": [
    "// Create struct with field init shorthand\n",
    "let name = String::from(\"Peter\");\n",
    "let age = 27;\n",
    "let peter = Person { name, age };\n",
    "\n",
    "// Print debug struct\n",
    "println!(\"{:?}\", peter);\n",
    "\n",
    "\n",
    "// Instantiate a `Point`\n",
    "let point: Point = Point { x: 10.3, y: 0.4 };\n",
    "\n",
    "// Access the fields of the point\n",
    "println!(\"point coordinates: ({}, {})\", point.x, point.y);\n",
    "\n",
    "// Make a new point by using struct update syntax to use the fields of our\n",
    "// other one\n",
    "let bottom_right = Point { x: 5.2, ..point };\n",
    "\n",
    "// `bottom_right.y` will be the same as `point.y` because we used that field\n",
    "// from `point`\n",
    "println!(\"second point: ({}, {})\", bottom_right.x, bottom_right.y);\n",
    "\n",
    "// Destructure the point using a `let` binding\n",
    "let Point { x: top_edge, y: left_edge } = point;\n",
    "\n",
    "let _rectangle = Rectangle {\n",
    "    // struct instantiation is an expression too\n",
    "    top_left: Point { x: left_edge, y: top_edge },\n",
    "    bottom_right: bottom_right,\n",
    "    };\n",
    "\n",
    "// Instantiate a unit struct\n",
    "let _unit = Unit;\n",
    "\n",
    "// Instantiate a tuple struct\n",
    "let pair = Pair(1, 0.1);\n",
    "\n",
    "// Access the fields of a tuple struct\n",
    "println!(\"pair contains {:?} and {:?}\", pair.0, pair.1);\n",
    "\n",
    "// Destructure a tuple struct\n",
    "let Pair(integer, decimal) = pair;\n",
    "\n",
    "println!(\"pair contains {:?} and {:?}\", integer, decimal);"
   ]
  },
  {
   "cell_type": "markdown",
   "metadata": {},
   "source": [
    "### Enums\n",
    "\n",
    "The enum keyword allows the creation of a type which may be one of a few different variants. Any variant which is valid as a struct is also valid as an enum."
   ]
  },
  {
   "cell_type": "code",
   "execution_count": 19,
   "metadata": {},
   "outputs": [],
   "source": [
    "// Create an `enum` to classify a web event. Note how both\n",
    "// names and type information together specify the variant:\n",
    "// `PageLoad != PageUnload` and `KeyPress(char) != Paste(String)`.\n",
    "// Each is different and independent.\n",
    "enum WebEvent {\n",
    "    // An `enum` may either be `unit-like`,\n",
    "    PageLoad,\n",
    "    PageUnload,\n",
    "    // like tuple structs,\n",
    "    KeyPress(char),\n",
    "    Paste(String),\n",
    "    // or c-like structures.\n",
    "    Click { x: i64, y: i64 },\n",
    "}\n",
    "\n",
    "// A function which takes a `WebEvent` enum as an argument and\n",
    "// returns nothing.\n",
    "fn inspect(event: WebEvent) {\n",
    "    match event {\n",
    "        WebEvent::PageLoad => println!(\"page loaded\"),\n",
    "        WebEvent::PageUnload => println!(\"page unloaded\"),\n",
    "        // Destructure `c` from inside the `enum`.\n",
    "        WebEvent::KeyPress(c) => println!(\"pressed '{}'.\", c),\n",
    "        WebEvent::Paste(s) => println!(\"pasted \\\"{}\\\".\", s),\n",
    "        // Destructure `Click` into `x` and `y`.\n",
    "        WebEvent::Click { x, y } => {\n",
    "            println!(\"clicked at x={}, y={}.\", x, y);\n",
    "        },\n",
    "    }\n",
    "}\n"
   ]
  },
  {
   "cell_type": "code",
   "execution_count": 20,
   "metadata": {},
   "outputs": [
    {
     "name": "stdout",
     "output_type": "stream",
     "text": [
      "pressed 'x'.\n",
      "pasted \"my text\".\n",
      "clicked at x=20, y=80.\n",
      "page loaded\n",
      "page unloaded\n"
     ]
    }
   ],
   "source": [
    "let pressed = WebEvent::KeyPress('x');\n",
    "// `to_owned()` creates an owned `String` from a string slice.\n",
    "let pasted  = WebEvent::Paste(\"my text\".to_owned());\n",
    "let click   = WebEvent::Click { x: 20, y: 80 };\n",
    "let load    = WebEvent::PageLoad;\n",
    "let unload  = WebEvent::PageUnload;\n",
    "\n",
    "inspect(pressed);\n",
    "inspect(pasted);\n",
    "inspect(click);\n",
    "inspect(load);\n",
    "inspect(unload);"
   ]
  },
  {
   "cell_type": "markdown",
   "metadata": {},
   "source": [
    "#### Type aliases\n",
    "If you use a type alias, you can refer to each enum variant via its alias. This might be useful if the enum's name is too long or too generic, and you want to rename it."
   ]
  },
  {
   "cell_type": "code",
   "execution_count": 21,
   "metadata": {},
   "outputs": [],
   "source": [
    "enum VeryVerboseEnumOfThingsToDoWithNumbers {\n",
    "    Add,\n",
    "    Subtract,\n",
    "}\n",
    "\n",
    "// Creates a type alias\n",
    "type Operations = VeryVerboseEnumOfThingsToDoWithNumbers;\n",
    "\n",
    "\n",
    "// We can refer to each variant via its alias, not its long and inconvenient\n",
    "// name.\n",
    "let x = Operations::Add;"
   ]
  },
  {
   "cell_type": "markdown",
   "metadata": {},
   "source": [
    "The most common place you'll see this is in impl blocks using the Self alias."
   ]
  },
  {
   "cell_type": "code",
   "execution_count": 22,
   "metadata": {},
   "outputs": [],
   "source": [
    "enum VeryVerboseEnumOfThingsToDoWithNumbers {\n",
    "    Add,\n",
    "    Subtract,\n",
    "}\n",
    "\n",
    "impl VeryVerboseEnumOfThingsToDoWithNumbers {\n",
    "    fn run(&self, x: i32, y: i32) -> i32 {\n",
    "        match self {\n",
    "            Self::Add => x + y,\n",
    "            Self::Subtract => x - y,\n",
    "        }\n",
    "    }\n",
    "}\n"
   ]
  },
  {
   "cell_type": "markdown",
   "metadata": {},
   "source": [
    "### use\n",
    "The use declaration can be used so manual scoping isn't needed:"
   ]
  },
  {
   "cell_type": "code",
   "execution_count": 24,
   "metadata": {},
   "outputs": [
    {
     "name": "stdout",
     "output_type": "stream",
     "text": [
      "The poor have no money...\n",
      "Civilians work!\n"
     ]
    },
    {
     "data": {
      "text/plain": [
       "()"
      ]
     },
     "execution_count": 24,
     "metadata": {},
     "output_type": "execute_result"
    }
   ],
   "source": [
    "enum Status {\n",
    "    Rich,\n",
    "    Poor,\n",
    "}\n",
    "\n",
    "enum Work {\n",
    "    Civilian,\n",
    "    Soldier,\n",
    "}\n",
    "\n",
    "\n",
    "// Explicitly `use` each name so they are available without\n",
    "// manual scoping.\n",
    "use crate::Status::{Poor, Rich};\n",
    "// Automatically `use` each name inside `Work`.\n",
    "use crate::Work::*;\n",
    "\n",
    "// Equivalent to `Status::Poor`.\n",
    "let status = Poor;\n",
    "// Equivalent to `Work::Civilian`.\n",
    "let work = Civilian;\n",
    "\n",
    "match status {\n",
    "    // Note the lack of scoping because of the explicit `use` above.\n",
    "    Rich => println!(\"The rich have lots of money!\"),\n",
    "    Poor => println!(\"The poor have no money...\"),\n",
    "}\n",
    "\n",
    "match work {\n",
    "    // Note again the lack of scoping.\n",
    "    Civilian => println!(\"Civilians work!\"),\n",
    "    Soldier  => println!(\"Soldiers fight!\"),\n",
    "}\n"
   ]
  },
  {
   "cell_type": "markdown",
   "metadata": {},
   "source": [
    "### C-like\n",
    "enum can also be used as C-like enums."
   ]
  },
  {
   "cell_type": "code",
   "execution_count": 26,
   "metadata": {},
   "outputs": [
    {
     "name": "stdout",
     "output_type": "stream",
     "text": [
      "zero is 0\n",
      "one is 1\n",
      "roses are #ff0000\n",
      "violets are #0000ff\n"
     ]
    }
   ],
   "source": [
    "// enum with implicit discriminator (starts at 0)\n",
    "enum Number {\n",
    "    Zero,\n",
    "    One,\n",
    "    Two,\n",
    "}\n",
    "\n",
    "// enum with explicit discriminator\n",
    "enum Color {\n",
    "    Red = 0xff0000,\n",
    "    Green = 0x00ff00,\n",
    "    Blue = 0x0000ff,\n",
    "}\n",
    "\n",
    "\n",
    "// `enums` can be cast as integers.\n",
    "println!(\"zero is {}\", Number::Zero as i32);\n",
    "println!(\"one is {}\", Number::One as i32);\n",
    "\n",
    "println!(\"roses are #{:06x}\", Color::Red as i32);\n",
    "println!(\"violets are #{:06x}\", Color::Blue as i32);"
   ]
  },
  {
   "cell_type": "markdown",
   "metadata": {},
   "source": [
    "### Testcase: linked-list\n",
    "A common use for enums is to create a linked-list:"
   ]
  },
  {
   "cell_type": "code",
   "execution_count": 27,
   "metadata": {},
   "outputs": [],
   "source": [
    "use crate::List::*;\n",
    "\n",
    "enum List {\n",
    "    // Cons: Tuple struct that wraps an element and a pointer to the next node\n",
    "    Cons(u32, Box<List>),\n",
    "    // Nil: A node that signifies the end of the linked list\n",
    "    Nil,\n",
    "}\n",
    "\n",
    "// Methods can be attached to an enum\n",
    "impl List {\n",
    "    // Create an empty list\n",
    "    fn new() -> List {\n",
    "        // `Nil` has type `List`\n",
    "        Nil\n",
    "    }\n",
    "\n",
    "    // Consume a list, and return the same list with a new element at its front\n",
    "    fn prepend(self, elem: u32) -> List {\n",
    "        // `Cons` also has type List\n",
    "        Cons(elem, Box::new(self))\n",
    "    }\n",
    "\n",
    "    // Return the length of the list\n",
    "    fn len(&self) -> u32 {\n",
    "        // `self` has to be matched, because the behavior of this method\n",
    "        // depends on the variant of `self`\n",
    "        // `self` has type `&List`, and `*self` has type `List`, matching on a\n",
    "        // concrete type `T` is preferred over a match on a reference `&T`\n",
    "        match *self {\n",
    "            // Can't take ownership of the tail, because `self` is borrowed;\n",
    "            // instead take a reference to the tail\n",
    "            Cons(_, ref tail) => 1 + tail.len(),\n",
    "            // Base Case: An empty list has zero length\n",
    "            Nil => 0\n",
    "        }\n",
    "    }\n",
    "\n",
    "    // Return representation of the list as a (heap allocated) string\n",
    "    fn stringify(&self) -> String {\n",
    "        match *self {\n",
    "            Cons(head, ref tail) => {\n",
    "                // `format!` is similar to `print!`, but returns a heap\n",
    "                // allocated string instead of printing to the console\n",
    "                format!(\"{}, {}\", head, tail.stringify())\n",
    "            },\n",
    "            Nil => {\n",
    "                format!(\"Nil\")\n",
    "            },\n",
    "        }\n",
    "    }\n",
    "}\n"
   ]
  },
  {
   "cell_type": "code",
   "execution_count": 28,
   "metadata": {},
   "outputs": [
    {
     "name": "stdout",
     "output_type": "stream",
     "text": [
      "linked list has length: 3\n",
      "3, 2, 1, Nil\n"
     ]
    }
   ],
   "source": [
    "// Create an empty linked list\n",
    "let mut list = List::new();\n",
    "\n",
    "// Prepend some elements\n",
    "list = list.prepend(1);\n",
    "list = list.prepend(2);\n",
    "list = list.prepend(3);\n",
    "\n",
    "// Show the final state of the list\n",
    "println!(\"linked list has length: {}\", list.len());\n",
    "println!(\"{}\", list.stringify());\n"
   ]
  },
  {
   "cell_type": "markdown",
   "metadata": {},
   "source": [
    "## constants\n",
    "Rust has two different types of constants which can be declared in any scope including global. Both require explicit type annotation:\n",
    "\n",
    "- const: An unchangeable value (the common case).\n",
    "- static: A possibly mutable variable with 'static lifetime. The static lifetime is inferred and does not have to be specified. - Accessing or modifying a mutable static variable is unsafe."
   ]
  },
  {
   "cell_type": "code",
   "execution_count": 29,
   "metadata": {},
   "outputs": [],
   "source": [
    "// Globals are declared outside all other scopes.\n",
    "static LANGUAGE: &str = \"Rust\";\n",
    "const THRESHOLD: i32 = 10;\n",
    "\n",
    "fn is_big(n: i32) -> bool {\n",
    "    // Access constant in some function\n",
    "    n > THRESHOLD\n",
    "}"
   ]
  },
  {
   "cell_type": "code",
   "execution_count": 31,
   "metadata": {},
   "outputs": [
    {
     "name": "stdout",
     "output_type": "stream",
     "text": [
      "This is Rust\n",
      "The threshold is 10\n",
      "16 is big\n"
     ]
    }
   ],
   "source": [
    "let n = 16;\n",
    "\n",
    "// Access constant in the main thread\n",
    "println!(\"This is {}\", LANGUAGE);\n",
    "println!(\"The threshold is {}\", THRESHOLD);\n",
    "println!(\"{} is {}\", n, if is_big(n) { \"big\" } else { \"small\" });"
   ]
  },
  {
   "cell_type": "code",
   "execution_count": 32,
   "metadata": {},
   "outputs": [
    {
     "ename": "Error",
     "evalue": "invalid left-hand side of assignment",
     "output_type": "error",
     "traceback": [
      "THRESHOLD = 5;",
      "^^^^^^^^^ cannot assign to this expression",
      "THRESHOLD = 5;",
      "          ^ ",
      "invalid left-hand side of assignment"
     ]
    }
   ],
   "source": [
    "// Error! Cannot modify a `const`.\n",
    "THRESHOLD = 5;\n",
    "// FIXME ^ Comment out this line"
   ]
  },
  {
   "cell_type": "markdown",
   "metadata": {},
   "source": [
    "## Variable Bindings\n",
    "Rust provides type safety via static typing. Variable bindings can be type annotated when declared. However, in most cases, the compiler will be able to infer the type of the variable from the context, heavily reducing the annotation burden.\n",
    "\n",
    "Values (like literals) can be bound to variables, using the let binding."
   ]
  },
  {
   "cell_type": "code",
   "execution_count": 35,
   "metadata": {},
   "outputs": [
    {
     "name": "stdout",
     "output_type": "stream",
     "text": [
      "An integer: 1\n",
      "A boolean: true\n",
      "Meet the unit value: ()\n"
     ]
    }
   ],
   "source": [
    "let an_integer = 1u32;\n",
    "let a_boolean = true;\n",
    "let unit = ();\n",
    "\n",
    "// copy `an_integer` into `copied_integer`\n",
    "let copied_integer = an_integer;\n",
    "\n",
    "println!(\"An integer: {:?}\", copied_integer);\n",
    "println!(\"A boolean: {:?}\", a_boolean);\n",
    "println!(\"Meet the unit value: {:?}\", unit);\n",
    "\n",
    "// The compiler warns about unused variable bindings; these warnings can\n",
    "// be silenced by prefixing the variable name with an underscore\n",
    "let _unused_variable = 3u32;\n",
    "\n",
    "let noisy_unused_variable = 2u32;"
   ]
  },
  {
   "cell_type": "markdown",
   "metadata": {},
   "source": [
    "### Mutability\n",
    "Variable bindings are immutable by default, but this can be overridden using the mut modifier."
   ]
  },
  {
   "cell_type": "code",
   "execution_count": 36,
   "metadata": {},
   "outputs": [
    {
     "name": "stdout",
     "output_type": "stream",
     "text": [
      "Before mutation: 1\n",
      "After mutation: 2\n"
     ]
    }
   ],
   "source": [
    "let _immutable_binding = 1;\n",
    "let mut mutable_binding = 1;\n",
    "\n",
    "println!(\"Before mutation: {}\", mutable_binding);\n",
    "\n",
    "// Ok\n",
    "mutable_binding += 1;\n",
    "\n",
    "println!(\"After mutation: {}\", mutable_binding);"
   ]
  },
  {
   "cell_type": "code",
   "execution_count": 37,
   "metadata": {},
   "outputs": [
    {
     "ename": "Error",
     "evalue": "cannot assign twice to immutable variable `_immutable_binding`",
     "output_type": "error",
     "traceback": [
      "_immutable_binding += 1;",
      "^^^^^^^^^^^^^^^^^^^^^^^ cannot assign twice to immutable variable",
      "cannot assign twice to immutable variable `_immutable_binding`"
     ]
    }
   ],
   "source": [
    "// Error!\n",
    "_immutable_binding += 1;\n",
    "// FIXME ^ Comment out this line"
   ]
  },
  {
   "cell_type": "markdown",
   "metadata": {},
   "source": [
    "### Scope and Shadowing\n",
    "Variable bindings have a scope, and are constrained to live in a block. A block is a collection of statements enclosed by braces {}."
   ]
  },
  {
   "cell_type": "code",
   "execution_count": 38,
   "metadata": {},
   "outputs": [
    {
     "name": "stdout",
     "output_type": "stream",
     "text": [
      "inner short: 2\n"
     ]
    }
   ],
   "source": [
    "// This binding lives in the main function\n",
    "let long_lived_binding = 1;\n",
    "\n",
    "// This is a block, and has a smaller scope than the main function\n",
    "{\n",
    "    // This binding only exists in this block\n",
    "    let short_lived_binding = 2;\n",
    "\n",
    "    println!(\"inner short: {}\", short_lived_binding);\n",
    "}\n",
    "// End of the block"
   ]
  },
  {
   "cell_type": "code",
   "execution_count": 39,
   "metadata": {},
   "outputs": [
    {
     "ename": "Error",
     "evalue": "cannot find value `short_lived_binding` in this scope",
     "output_type": "error",
     "traceback": [
      "println!(\"outer short: {}\", short_lived_binding);",
      "                            ^^^^^^^^^^^^^^^^^^^ ",
      "cannot find value `short_lived_binding` in this scope"
     ]
    }
   ],
   "source": [
    "// Error! `short_lived_binding` doesn't exist in this scope\n",
    "println!(\"outer short: {}\", short_lived_binding);\n",
    "// FIXME ^ Comment out this line"
   ]
  },
  {
   "cell_type": "code",
   "execution_count": 40,
   "metadata": {},
   "outputs": [
    {
     "name": "stdout",
     "output_type": "stream",
     "text": [
      "outer long: 1\n"
     ]
    }
   ],
   "source": [
    "println!(\"outer long: {}\", long_lived_binding);"
   ]
  },
  {
   "cell_type": "markdown",
   "metadata": {},
   "source": [
    "Also, [variable shadowing](https://en.wikipedia.org/wiki/Variable_shadowing) is allowed."
   ]
  },
  {
   "cell_type": "code",
   "execution_count": 41,
   "metadata": {},
   "outputs": [
    {
     "name": "stdout",
     "output_type": "stream",
     "text": [
      "before being shadowed: 1\n",
      "shadowed in inner block: abc\n",
      "outside inner block: 1\n",
      "shadowed in outer block: 2\n"
     ]
    }
   ],
   "source": [
    "let shadowed_binding = 1;\n",
    "\n",
    "{\n",
    "    println!(\"before being shadowed: {}\", shadowed_binding);\n",
    "\n",
    "    // This binding *shadows* the outer one\n",
    "    let shadowed_binding = \"abc\";\n",
    "\n",
    "    println!(\"shadowed in inner block: {}\", shadowed_binding);\n",
    "}\n",
    "println!(\"outside inner block: {}\", shadowed_binding);\n",
    "\n",
    "// This binding *shadows* the previous binding\n",
    "let shadowed_binding = 2;\n",
    "println!(\"shadowed in outer block: {}\", shadowed_binding);"
   ]
  },
  {
   "cell_type": "markdown",
   "metadata": {},
   "source": [
    "### Declare first\n",
    "It's possible to declare variable bindings first, and initialize them later. However, this form is seldom used, as it may lead to the use of uninitialized variables."
   ]
  },
  {
   "cell_type": "code",
   "execution_count": 44,
   "metadata": {},
   "outputs": [
    {
     "name": "stdout",
     "output_type": "stream",
     "text": [
      "a binding: 4\n"
     ]
    }
   ],
   "source": [
    "// Declare a variable binding\n",
    "let a_binding;\n",
    "\n",
    "{\n",
    "    let x = 2;\n",
    "\n",
    "    // Initialize the binding\n",
    "    a_binding = x * x;\n",
    "}\n",
    "\n",
    "println!(\"a binding: {}\", a_binding);"
   ]
  },
  {
   "cell_type": "code",
   "execution_count": 48,
   "metadata": {},
   "outputs": [
    {
     "ename": "Error",
     "evalue": "borrow of possibly-uninitialized variable: `another_binding`",
     "output_type": "error",
     "traceback": [
      "println!(\"another binding: {}\", another_binding);",
      "                                ^^^^^^^^^^^^^^^ use of possibly-uninitialized `another_binding`",
      "borrow of possibly-uninitialized variable: `another_binding`"
     ]
    }
   ],
   "source": [
    "let another_binding;\n",
    "// Error! Use of uninitialized binding\n",
    "println!(\"another binding: {}\", another_binding);\n",
    "// FIXME ^ Comment out this line"
   ]
  },
  {
   "cell_type": "code",
   "execution_count": 50,
   "metadata": {},
   "outputs": [
    {
     "name": "stdout",
     "output_type": "stream",
     "text": [
      "another binding: 1\n"
     ]
    }
   ],
   "source": [
    "let another_binding;\n",
    "another_binding = 1;\n",
    "\n",
    "println!(\"another binding: {}\", another_binding);"
   ]
  },
  {
   "cell_type": "markdown",
   "metadata": {},
   "source": [
    "The use of uninitialized variables is forbidden, as this would lead to undefined behavior."
   ]
  },
  {
   "cell_type": "markdown",
   "metadata": {},
   "source": [
    "### Freezing\n",
    "When data is bound by the same name immutably, it also freezes. Frozen data can't be modified until the immutable binding goes out of scope:"
   ]
  },
  {
   "cell_type": "code",
   "execution_count": 51,
   "metadata": {},
   "outputs": [
    {
     "ename": "Error",
     "evalue": "cannot assign twice to immutable variable `_mutable_integer`",
     "output_type": "error",
     "traceback": [
      "    let _mutable_integer = _mutable_integer;",
      "        ^^^^^^^^^^^^^^^^ first assignment to `_mutable_integer`",
      "    _mutable_integer = 50;",
      "    ^^^^^^^^^^^^^^^^^^^^^ cannot assign twice to immutable variable",
      "cannot assign twice to immutable variable `_mutable_integer`"
     ]
    }
   ],
   "source": [
    "let mut _mutable_integer = 7i32;\n",
    "\n",
    "{\n",
    "    // Shadowing by immutable `_mutable_integer`\n",
    "    let _mutable_integer = _mutable_integer;\n",
    "\n",
    "    // Error! `_mutable_integer` is frozen in this scope\n",
    "    _mutable_integer = 50;\n",
    "    // FIXME ^ Comment out this line\n",
    "\n",
    "    // `_mutable_integer` goes out of scope\n",
    "}\n",
    "\n",
    "// Ok! `_mutable_integer` is not frozen in this scope\n",
    "_mutable_integer = 3;"
   ]
  },
  {
   "cell_type": "markdown",
   "metadata": {},
   "source": [
    "## Types\n",
    "Rust provides several mechanisms to change or define the type of primitive and user defined types. The following sections cover:"
   ]
  },
  {
   "cell_type": "markdown",
   "metadata": {},
   "source": [
    "### Casting\n",
    "\n",
    "Rust provides no implicit type conversion (coercion) between primitive types. But, explicit type conversion (casting) can be performed using the as keyword.\n",
    "\n",
    "Rules for converting between integral types follow C conventions generally, except in cases where C has undefined behavior. The behavior of all casts between integral types is well defined in Rust."
   ]
  },
  {
   "cell_type": "code",
   "execution_count": 55,
   "metadata": {},
   "outputs": [
    {
     "ename": "Error",
     "evalue": "mismatched types",
     "output_type": "error",
     "traceback": [
      "let integer: u8 = decimal;",
      "                  ^^^^^^^ expected `u8`, found `f32`",
      "let integer: u8 = decimal;",
      "             ^^ expected due to this",
      "mismatched types"
     ]
    }
   ],
   "source": [
    "let decimal = 65.4321_f32;\n",
    "\n",
    "// Error! No implicit conversion\n",
    "let integer: u8 = decimal;\n",
    "// FIXME ^ Comment out this line"
   ]
  },
  {
   "cell_type": "code",
   "execution_count": 56,
   "metadata": {},
   "outputs": [],
   "source": [
    "// Explicit conversion\n",
    "let integer = decimal as u8;\n",
    "let character = integer as char;"
   ]
  },
  {
   "cell_type": "code",
   "execution_count": 57,
   "metadata": {},
   "outputs": [
    {
     "ename": "Error",
     "evalue": "only `u8` can be cast as `char`, not `f32`",
     "output_type": "error",
     "traceback": [
      "let character = decimal as char;",
      "                ^^^^^^^^^^^^^^^ invalid cast",
      "only `u8` can be cast as `char`, not `f32`"
     ]
    }
   ],
   "source": [
    "// Error! There are limitations in conversion rules. A float cannot be directly converted to a char.\n",
    "let character = decimal as char;"
   ]
  },
  {
   "cell_type": "code",
   "execution_count": 58,
   "metadata": {},
   "outputs": [
    {
     "ename": "Error",
     "evalue": "literal out of range for `u8`",
     "output_type": "error",
     "traceback": [
      "println!(\"1000 as a u8 is : {}\", 1000 as u8);",
      "                                 ^^^^ ",
      "literal out of range for `u8`"
     ]
    },
    {
     "ename": "Error",
     "evalue": "literal out of range for `i8`",
     "output_type": "error",
     "traceback": [
      "println!(\" 128 as a i8 is : {}\", 128 as i8);",
      "                                 ^^^ ",
      "literal out of range for `i8`"
     ]
    },
    {
     "ename": "Error",
     "evalue": "literal out of range for `u8`",
     "output_type": "error",
     "traceback": [
      "println!(\"1000 as a u8 is : {}\", 1000 as u8);",
      "                                 ^^^^ ",
      "literal out of range for `u8`"
     ]
    },
    {
     "ename": "Error",
     "evalue": "literal out of range for `i8`",
     "output_type": "error",
     "traceback": [
      "println!(\" 232 as a i8 is : {}\", 232 as i8);",
      "                                 ^^^ ",
      "literal out of range for `i8`"
     ]
    }
   ],
   "source": [
    "println!(\"Casting: {} -> {} -> {}\", decimal, integer, character);\n",
    "\n",
    "// when casting any value to an unsigned type, T,\n",
    "// T::MAX + 1 is added or subtracted until the value\n",
    "// fits into the new type\n",
    "\n",
    "// 1000 already fits in a u16\n",
    "println!(\"1000 as a u16 is: {}\", 1000 as u16);\n",
    "\n",
    "// 1000 - 256 - 256 - 256 = 232\n",
    "// Under the hood, the first 8 least significant bits (LSB) are kept,\n",
    "// while the rest towards the most significant bit (MSB) get truncated.\n",
    "println!(\"1000 as a u8 is : {}\", 1000 as u8);\n",
    "// -1 + 256 = 255\n",
    "println!(\"  -1 as a u8 is : {}\", (-1i8) as u8);\n",
    "\n",
    "// For positive numbers, this is the same as the modulus\n",
    "println!(\"1000 mod 256 is : {}\", 1000 % 256);\n",
    "\n",
    "// When casting to a signed type, the (bitwise) result is the same as\n",
    "// first casting to the corresponding unsigned type. If the most significant\n",
    "// bit of that value is 1, then the value is negative.\n",
    "\n",
    "// Unless it already fits, of course.\n",
    "println!(\" 128 as a i16 is: {}\", 128 as i16);\n",
    "// 128 as u8 -> 128, whose two's complement in eight bits is:\n",
    "println!(\" 128 as a i8 is : {}\", 128 as i8);\n",
    "\n",
    "// repeating the example above\n",
    "// 1000 as u8 -> 232\n",
    "println!(\"1000 as a u8 is : {}\", 1000 as u8);\n",
    "// and the two's complement of 232 is -24\n",
    "println!(\" 232 as a i8 is : {}\", 232 as i8);"
   ]
  },
  {
   "cell_type": "markdown",
   "metadata": {},
   "source": [
    "### Literals\n",
    "\n",
    "Numeric literals can be type annotated by adding the type as a suffix. As an example, to specify that the literal 42 should have the type i32, write 42i32.\n",
    "\n",
    "The type of unsuffixed numeric literals will depend on how they are used. If no constraint exists, the compiler will use i32 for integers, and f64 for floating-point numbers."
   ]
  },
  {
   "cell_type": "code",
   "execution_count": 59,
   "metadata": {},
   "outputs": [
    {
     "name": "stdout",
     "output_type": "stream",
     "text": [
      "size of `x` in bytes: 1\n",
      "size of `y` in bytes: 4\n",
      "size of `z` in bytes: 4\n",
      "size of `i` in bytes: 4\n",
      "size of `f` in bytes: 8\n"
     ]
    }
   ],
   "source": [
    "// Suffixed literals, their types are known at initialization\n",
    "let x = 1u8;\n",
    "let y = 2u32;\n",
    "let z = 3f32;\n",
    "\n",
    "// Unsuffixed literals, their types depend on how they are used\n",
    "let i = 1;\n",
    "let f = 1.0;\n",
    "\n",
    "// `size_of_val` returns the size of a variable in bytes\n",
    "println!(\"size of `x` in bytes: {}\", std::mem::size_of_val(&x));\n",
    "println!(\"size of `y` in bytes: {}\", std::mem::size_of_val(&y));\n",
    "println!(\"size of `z` in bytes: {}\", std::mem::size_of_val(&z));\n",
    "println!(\"size of `i` in bytes: {}\", std::mem::size_of_val(&i));\n",
    "println!(\"size of `f` in bytes: {}\", std::mem::size_of_val(&f));"
   ]
  },
  {
   "cell_type": "markdown",
   "metadata": {},
   "source": [
    "### Inference\n",
    "\n",
    "The type inference engine is pretty smart. It does more than looking at the type of the value expression during an initialization. It also looks at how the variable is used afterwards to infer its type. Here's an advanced example of type inference:"
   ]
  },
  {
   "cell_type": "code",
   "execution_count": 63,
   "metadata": {},
   "outputs": [
    {
     "name": "stdout",
     "output_type": "stream",
     "text": [
      "[5]\n"
     ]
    }
   ],
   "source": [
    "// Because of the annotation, the compiler knows that `elem` has type u8.\n",
    "let elem = 5u8;\n",
    "\n",
    "// Create an empty vector (a growable array).\n",
    "let mut vec = Vec::new();\n",
    "// At this point the compiler doesn't know the exact type of `vec`, it\n",
    "// just knows that it's a vector of something (`Vec<_>`).\n",
    "\n",
    "// Insert `elem` in the vector.\n",
    "vec.push(elem);\n",
    "// Aha! Now the compiler knows that `vec` is a vector of `u8`s (`Vec<u8>`)\n",
    "// TODO ^ Try commenting out the `vec.push(elem)` line\n",
    "\n",
    "println!(\"{:?}\", vec);"
   ]
  },
  {
   "cell_type": "markdown",
   "metadata": {},
   "source": [
    "### Aliasing\n",
    "\n",
    "The type statement can be used to give a new name to an existing type. Types must have UpperCamelCase names, or the compiler will raise a warning. The exception to this rule are the primitive types: usize, f32, etc."
   ]
  },
  {
   "cell_type": "code",
   "execution_count": 65,
   "metadata": {},
   "outputs": [
    {
     "name": "stdout",
     "output_type": "stream",
     "text": [
      "5 nanoseconds + 2 inches = 7 unit?\n"
     ]
    }
   ],
   "source": [
    "// `NanoSecond` is a new name for `u64`.\n",
    "type NanoSecond = u64;\n",
    "type Inch = u64;\n",
    "\n",
    "type u64_t = u64;\n",
    "// TODO ^ Try removing the attribute\n",
    "\n",
    "// `NanoSecond` = `Inch` = `u64_t` = `u64`.\n",
    "let nanoseconds: NanoSecond = 5 as u64_t;\n",
    "let inches: Inch = 2 as u64_t;\n",
    "\n",
    "// Note that type aliases *don't* provide any extra type safety, because\n",
    "// aliases are *not* new types\n",
    "println!(\"{} nanoseconds + {} inches = {} unit?\",\n",
    "             nanoseconds,\n",
    "             inches,\n",
    "             nanoseconds + inches);"
   ]
  },
  {
   "cell_type": "markdown",
   "metadata": {},
   "source": [
    "## Conversion\n",
    "Primitive types can be converted to each other through casting.\n",
    "\n",
    "Rust addresses conversion between custom types (i.e., struct and enum) by the use of traits. The generic conversions will use the From and Into traits. However there are more specific ones for the more common cases, in particular when converting to and from Strings.\n",
    "\n",
    "### From and Into\n",
    "The From and Into traits are inherently linked, and this is actually part of its implementation. If you are able to convert type A from type B, then it should be easy to believe that we should be able to convert type B to type A.\n",
    "\n",
    "#### From\n",
    "\n",
    "The From trait allows for a type to define how to create itself from another type, hence providing a very simple mechanism for converting between several types. There are numerous implementations of this trait within the standard library for conversion of primitive and common types.\n",
    "\n",
    "For example we can easily convert a str into a String"
   ]
  },
  {
   "cell_type": "code",
   "execution_count": 67,
   "metadata": {},
   "outputs": [],
   "source": [
    "let my_str = \"hello\";\n",
    "let my_string = String::from(my_str);"
   ]
  },
  {
   "cell_type": "markdown",
   "metadata": {},
   "source": [
    "We can do similar for defining a conversion for our own type."
   ]
  },
  {
   "cell_type": "code",
   "execution_count": 71,
   "metadata": {},
   "outputs": [
    {
     "name": "stdout",
     "output_type": "stream",
     "text": [
      "My number is Number { value: 30 }\n"
     ]
    }
   ],
   "source": [
    "use std::convert::From;\n",
    "\n",
    "#[derive(Debug)]\n",
    "struct Number {\n",
    "    value: i32,\n",
    "}\n",
    "\n",
    "impl From<i32> for Number {\n",
    "    fn from(item: i32) -> Self {\n",
    "        Number { value: item }\n",
    "    }\n",
    "}\n",
    "\n",
    "\n",
    "let num = Number::from(30);\n",
    "println!(\"My number is {:?}\", num);"
   ]
  },
  {
   "cell_type": "markdown",
   "metadata": {},
   "source": [
    "#### Into\n",
    "The Into trait is simply the reciprocal of the From trait. That is, if you have implemented the From trait for your type, Into will call it when necessary.\n",
    "\n",
    "Using the Into trait will typically require specification of the type to convert into as the compiler is unable to determine this most of the time. However this is a small trade-off considering we get the functionality for free."
   ]
  },
  {
   "cell_type": "code",
   "execution_count": 72,
   "metadata": {},
   "outputs": [
    {
     "name": "stdout",
     "output_type": "stream",
     "text": [
      "My number is Number { value: 5 }\n"
     ]
    }
   ],
   "source": [
    "use std::convert::From;\n",
    "\n",
    "#[derive(Debug)]\n",
    "struct Number {\n",
    "    value: i32,\n",
    "}\n",
    "\n",
    "impl From<i32> for Number {\n",
    "    fn from(item: i32) -> Self {\n",
    "        Number { value: item }\n",
    "    }\n",
    "}\n",
    "\n",
    "let int = 5;\n",
    "// Try removing the type declaration\n",
    "let num: Number = int.into();\n",
    "println!(\"My number is {:?}\", num);"
   ]
  },
  {
   "cell_type": "markdown",
   "metadata": {},
   "source": [
    "### TryFrom and TryInto\n",
    "\n",
    "Similar to From and Into, TryFrom and TryInto are generic traits for converting between types. Unlike From/Into, the TryFrom/TryInto traits are used for fallible conversions, and as such, return Results."
   ]
  },
  {
   "cell_type": "code",
   "execution_count": 73,
   "metadata": {},
   "outputs": [],
   "source": [
    "use std::convert::TryFrom;\n",
    "use std::convert::TryInto;\n",
    "\n",
    "#[derive(Debug, PartialEq)]\n",
    "struct EvenNumber(i32);\n",
    "\n",
    "impl TryFrom<i32> for EvenNumber {\n",
    "    type Error = ();\n",
    "\n",
    "    fn try_from(value: i32) -> Result<Self, Self::Error> {\n",
    "        if value % 2 == 0 {\n",
    "            Ok(EvenNumber(value))\n",
    "        } else {\n",
    "            Err(())\n",
    "        }\n",
    "    }\n",
    "}\n",
    "\n",
    "\n",
    "// TryFrom\n",
    "\n",
    "assert_eq!(EvenNumber::try_from(8), Ok(EvenNumber(8)));\n",
    "assert_eq!(EvenNumber::try_from(5), Err(()));\n",
    "\n",
    "// TryInto\n",
    "\n",
    "let result: Result<EvenNumber, ()> = 8i32.try_into();\n",
    "assert_eq!(result, Ok(EvenNumber(8)));\n",
    "let result: Result<EvenNumber, ()> = 5i32.try_into();\n",
    "assert_eq!(result, Err(()));"
   ]
  },
  {
   "cell_type": "markdown",
   "metadata": {},
   "source": [
    "### To and from Strings\n",
    "\n",
    "#### Converting to String\n",
    "To convert any type to a String is as simple as implementing the ToString trait for the type. Rather than doing so directly, you should implement the fmt::Display trait which automagically provides ToString and also allows printing the type as discussed in the section on print!."
   ]
  },
  {
   "cell_type": "code",
   "execution_count": 74,
   "metadata": {},
   "outputs": [
    {
     "name": "stdout",
     "output_type": "stream",
     "text": [
      "Circle of radius 6\n"
     ]
    }
   ],
   "source": [
    "use std::fmt;\n",
    "\n",
    "struct Circle {\n",
    "    radius: i32\n",
    "}\n",
    "\n",
    "impl fmt::Display for Circle {\n",
    "    fn fmt(&self, f: &mut fmt::Formatter) -> fmt::Result {\n",
    "        write!(f, \"Circle of radius {}\", self.radius)\n",
    "    }\n",
    "}\n",
    "\n",
    "\n",
    "let circle = Circle { radius: 6 };\n",
    "println!(\"{}\", circle.to_string());"
   ]
  },
  {
   "cell_type": "markdown",
   "metadata": {},
   "source": [
    "#### Parsing a String\n",
    "One of the more common types to convert a string into is a number. The idiomatic approach to this is to use the parse function and either to arrange for type inference or to specify the type to parse using the 'turbofish' syntax. Both alternatives are shown in the following example.\n",
    "\n",
    "This will convert the string into the type specified so long as the FromStr trait is implemented for that type. This is implemented for numerous types within the standard library. To obtain this functionality on a user defined type simply implement the FromStr trait for that type."
   ]
  },
  {
   "cell_type": "code",
   "execution_count": 76,
   "metadata": {},
   "outputs": [
    {
     "name": "stdout",
     "output_type": "stream",
     "text": [
      "Sum: 15\n"
     ]
    }
   ],
   "source": [
    "let parsed: i32 = \"5\".parse().unwrap();\n",
    "let turbo_parsed = \"10\".parse::<i32>().unwrap();\n",
    "\n",
    "let sum = parsed + turbo_parsed;\n",
    "println!(\"Sum: {:?}\", sum);"
   ]
  },
  {
   "cell_type": "markdown",
   "metadata": {},
   "source": [
    "## Expressions\n",
    "A Rust program is (mostly) made up of a series of statements. \n",
    "There are a few kinds of statements in Rust. The most two common are declaring a variable binding, and using a ; with an expression:"
   ]
  },
  {
   "cell_type": "code",
   "execution_count": 77,
   "metadata": {},
   "outputs": [],
   "source": [
    "// variable binding\n",
    "let x = 5;\n",
    "\n",
    "// expression;\n",
    "x;\n",
    "x + 1;\n",
    "15;"
   ]
  },
  {
   "cell_type": "markdown",
   "metadata": {},
   "source": [
    "Blocks are expressions too, so they can be used as values in assignments. The last expression in the block will be assigned to the place expression such as a local variable. However, if the last expression of the block ends with a semicolon, the return value will be ()."
   ]
  },
  {
   "cell_type": "code",
   "execution_count": 78,
   "metadata": {},
   "outputs": [
    {
     "name": "stdout",
     "output_type": "stream",
     "text": [
      "x is 5\n",
      "y is 155\n",
      "z is ()\n"
     ]
    }
   ],
   "source": [
    "let x = 5u32;\n",
    "\n",
    "let y = {\n",
    "    let x_squared = x * x;\n",
    "    let x_cube = x_squared * x;\n",
    "\n",
    "    // This expression will be assigned to `y`\n",
    "    x_cube + x_squared + x\n",
    "};\n",
    "\n",
    "let z = {\n",
    "    // The semicolon suppresses this expression and `()` is assigned to `z`\n",
    "    2 * x;\n",
    "};\n",
    "\n",
    "println!(\"x is {:?}\", x);\n",
    "println!(\"y is {:?}\", y);\n",
    "println!(\"z is {:?}\", z);"
   ]
  },
  {
   "cell_type": "markdown",
   "metadata": {},
   "source": [
    "## Flow of Control\n",
    "An essential part of any programming languages are ways to modify control flow: if/else, for, and others. Let's talk about them in Rust.\n",
    "\n",
    "### if/else\n",
    "Branching with if-else is similar to other languages. Unlike many of them, the boolean condition doesn't need to be surrounded by parentheses, and each condition is followed by a block. if-else conditionals are expressions, and, all branches must return the same type."
   ]
  },
  {
   "cell_type": "code",
   "execution_count": 80,
   "metadata": {},
   "outputs": [
    {
     "name": "stdout",
     "output_type": "stream",
     "text": [
      "5 is positive, and is a small number, increase ten-fold\n",
      "5 -> 50\n"
     ]
    }
   ],
   "source": [
    "let n = 5;\n",
    "\n",
    "if n < 0 {\n",
    "    print!(\"{} is negative\", n);\n",
    "} else if n > 0 {\n",
    "    print!(\"{} is positive\", n);\n",
    "} else {\n",
    "    print!(\"{} is zero\", n);\n",
    "}\n",
    "\n",
    "let big_n =\n",
    "    if n < 10 && n > -10 {\n",
    "        println!(\", and is a small number, increase ten-fold\");\n",
    "\n",
    "        // This expression returns an `i32`.\n",
    "        10 * n\n",
    "    } else {\n",
    "        println!(\", and is a big number, halve the number\");\n",
    "\n",
    "        // This expression must return an `i32` as well.\n",
    "        n / 2\n",
    "        // TODO ^ Try suppressing this expression with a semicolon.\n",
    "    };\n",
    "//   ^ Don't forget to put a semicolon here! All `let` bindings need it.\n",
    "\n",
    "println!(\"{} -> {}\", n, big_n);"
   ]
  },
  {
   "cell_type": "markdown",
   "metadata": {},
   "source": [
    "#### loop\n",
    "Rust provides a loop keyword to indicate an infinite loop.\n",
    "\n",
    "The break statement can be used to exit a loop at anytime, whereas the continue statement can be used to skip the rest of the iteration and start a new one."
   ]
  },
  {
   "cell_type": "code",
   "execution_count": 82,
   "metadata": {},
   "outputs": [
    {
     "name": "stdout",
     "output_type": "stream",
     "text": [
      "Let's count until infinity!\n",
      "1\n",
      "2\n",
      "three\n",
      "4\n",
      "5\n",
      "OK, that's enough\n"
     ]
    },
    {
     "data": {
      "text/plain": [
       "()"
      ]
     },
     "execution_count": 82,
     "metadata": {},
     "output_type": "execute_result"
    }
   ],
   "source": [
    "let mut count = 0u32;\n",
    "\n",
    "println!(\"Let's count until infinity!\");\n",
    "\n",
    "// Infinite loop\n",
    "loop {\n",
    "    count += 1;\n",
    "\n",
    "    if count == 3 {\n",
    "        println!(\"three\");\n",
    "\n",
    "        // Skip the rest of this iteration\n",
    "        continue;\n",
    "    }\n",
    "\n",
    "    println!(\"{}\", count);\n",
    "\n",
    "    if count == 5 {\n",
    "        println!(\"OK, that's enough\");\n",
    "\n",
    "        // Exit this loop\n",
    "        break;\n",
    "    }\n",
    "}"
   ]
  },
  {
   "cell_type": "markdown",
   "metadata": {},
   "source": [
    "### Nesting and labels\n",
    "It's possible to break or continue outer loops when dealing with nested loops. In these cases, the loops must be annotated with some 'label, and the label must be passed to the break/continue statement."
   ]
  },
  {
   "cell_type": "code",
   "execution_count": 83,
   "metadata": {},
   "outputs": [
    {
     "name": "stdout",
     "output_type": "stream",
     "text": [
      "Entered the outer loop\n",
      "Entered the inner loop\n",
      "Exited the outer loop\n"
     ]
    }
   ],
   "source": [
    "'outer: loop {\n",
    "    println!(\"Entered the outer loop\");\n",
    "\n",
    "    'inner: loop {\n",
    "        println!(\"Entered the inner loop\");\n",
    "\n",
    "        // This would break only the inner loop\n",
    "        //break;\n",
    "\n",
    "        // This breaks the outer loop\n",
    "        break 'outer;\n",
    "    }\n",
    "\n",
    "    println!(\"This point will never be reached\");\n",
    "}\n",
    "\n",
    "println!(\"Exited the outer loop\");"
   ]
  },
  {
   "cell_type": "markdown",
   "metadata": {},
   "source": [
    "### Returning from loops\n",
    "One of the uses of a loop is to retry an operation until it succeeds. If the operation returns a value though, you might need to pass it to the rest of the code: put it after the break, and it will be returned by the loop expression."
   ]
  },
  {
   "cell_type": "code",
   "execution_count": 85,
   "metadata": {},
   "outputs": [],
   "source": [
    "let mut counter = 0;\n",
    "\n",
    "let result = loop {\n",
    "    counter += 1;\n",
    "\n",
    "    if counter == 10 {\n",
    "        break counter * 2;\n",
    "    }\n",
    "};\n",
    "\n",
    "assert_eq!(result, 20);"
   ]
  },
  {
   "cell_type": "markdown",
   "metadata": {},
   "source": [
    "### while\n",
    "The while keyword can be used to run a loop while a condition is true.\n",
    "\n",
    "Let's write the infamous FizzBuzz using a while loop."
   ]
  },
  {
   "cell_type": "code",
   "execution_count": 86,
   "metadata": {},
   "outputs": [
    {
     "name": "stdout",
     "output_type": "stream",
     "text": [
      "1\n",
      "2\n",
      "fizz\n",
      "4\n",
      "buzz\n",
      "fizz\n",
      "7\n",
      "8\n",
      "fizz\n",
      "buzz\n",
      "11\n",
      "fizz\n",
      "13\n",
      "14\n",
      "fizzbuzz\n",
      "16\n",
      "17\n",
      "fizz\n",
      "19\n",
      "buzz\n",
      "fizz\n",
      "22\n",
      "23\n",
      "fizz\n",
      "buzz\n",
      "26\n",
      "fizz\n",
      "28\n",
      "29\n",
      "fizzbuzz\n",
      "31\n",
      "32\n",
      "fizz\n",
      "34\n",
      "buzz\n",
      "fizz\n",
      "37\n",
      "38\n",
      "fizz\n",
      "buzz\n",
      "41\n",
      "fizz\n",
      "43\n",
      "44\n",
      "fizzbuzz\n",
      "46\n",
      "47\n",
      "fizz\n",
      "49\n",
      "buzz\n",
      "fizz\n",
      "52\n",
      "53\n",
      "fizz\n",
      "buzz\n",
      "56\n",
      "fizz\n",
      "58\n",
      "59\n",
      "fizzbuzz\n",
      "61\n",
      "62\n",
      "fizz\n",
      "64\n",
      "buzz\n",
      "fizz\n",
      "67\n",
      "68\n",
      "fizz\n",
      "buzz\n",
      "71\n",
      "fizz\n",
      "73\n",
      "74\n",
      "fizzbuzz\n",
      "76\n",
      "77\n",
      "fizz\n",
      "79\n",
      "buzz\n",
      "fizz\n",
      "82\n",
      "83\n",
      "fizz\n",
      "buzz\n",
      "86\n",
      "fizz\n",
      "88\n",
      "89\n",
      "fizzbuzz\n",
      "91\n",
      "92\n",
      "fizz\n",
      "94\n",
      "buzz\n",
      "fizz\n",
      "97\n",
      "98\n",
      "fizz\n",
      "buzz\n"
     ]
    },
    {
     "data": {
      "text/plain": [
       "()"
      ]
     },
     "execution_count": 86,
     "metadata": {},
     "output_type": "execute_result"
    }
   ],
   "source": [
    "// A counter variable\n",
    "let mut n = 1;\n",
    "\n",
    "// Loop while `n` is less than 101\n",
    "while n < 101 {\n",
    "    if n % 15 == 0 {\n",
    "        println!(\"fizzbuzz\");\n",
    "    } else if n % 3 == 0 {\n",
    "        println!(\"fizz\");\n",
    "    } else if n % 5 == 0 {\n",
    "        println!(\"buzz\");\n",
    "    } else {\n",
    "        println!(\"{}\", n);\n",
    "    }\n",
    "\n",
    "    // Increment counter\n",
    "    n += 1;\n",
    "}"
   ]
  },
  {
   "cell_type": "markdown",
   "metadata": {},
   "source": [
    "### for loops\n",
    "\n",
    "#### for and range\n",
    "The for in construct can be used to iterate through an Iterator. One of the easiest ways to create an iterator is to use the range notation a..b. This yields values from a (inclusive) to b (exclusive) in steps of one.\n",
    "\n",
    "Let's write FizzBuzz using for instead of while."
   ]
  },
  {
   "cell_type": "code",
   "execution_count": 87,
   "metadata": {},
   "outputs": [
    {
     "name": "stdout",
     "output_type": "stream",
     "text": [
      "1\n",
      "2\n",
      "fizz\n",
      "4\n",
      "buzz\n",
      "fizz\n",
      "7\n",
      "8\n",
      "fizz\n",
      "buzz\n",
      "11\n",
      "fizz\n",
      "13\n",
      "14\n",
      "fizzbuzz\n",
      "16\n",
      "17\n",
      "fizz\n",
      "19\n",
      "buzz\n",
      "fizz\n",
      "22\n",
      "23\n",
      "fizz\n",
      "buzz\n",
      "26\n",
      "fizz\n",
      "28\n",
      "29\n",
      "fizzbuzz\n",
      "31\n",
      "32\n",
      "fizz\n",
      "34\n",
      "buzz\n",
      "fizz\n",
      "37\n",
      "38\n",
      "fizz\n",
      "buzz\n",
      "41\n",
      "fizz\n",
      "43\n",
      "44\n",
      "fizzbuzz\n",
      "46\n",
      "47\n",
      "fizz\n",
      "49\n",
      "buzz\n",
      "fizz\n",
      "52\n",
      "53\n",
      "fizz\n",
      "buzz\n",
      "56\n",
      "fizz\n",
      "58\n",
      "59\n",
      "fizzbuzz\n",
      "61\n",
      "62\n",
      "fizz\n",
      "64\n",
      "buzz\n",
      "fizz\n",
      "67\n",
      "68\n",
      "fizz\n",
      "buzz\n",
      "71\n",
      "fizz\n",
      "73\n",
      "74\n",
      "fizzbuzz\n",
      "76\n",
      "77\n",
      "fizz\n",
      "79\n",
      "buzz\n",
      "fizz\n",
      "82\n",
      "83\n"
     ]
    },
    {
     "data": {
      "text/plain": [
       "()"
      ]
     },
     "execution_count": 87,
     "metadata": {},
     "output_type": "execute_result"
    },
    {
     "name": "stdout",
     "output_type": "stream",
     "text": [
      "fizz\n",
      "buzz\n",
      "86\n",
      "fizz\n",
      "88\n",
      "89\n",
      "fizzbuzz\n",
      "91\n",
      "92\n",
      "fizz\n",
      "94\n",
      "buzz\n",
      "fizz\n",
      "97\n",
      "98\n",
      "fizz\n",
      "buzz\n"
     ]
    }
   ],
   "source": [
    "// `n` will take the values: 1, 2, ..., 100 in each iteration\n",
    "for n in 1..101 {\n",
    "    if n % 15 == 0 {\n",
    "        println!(\"fizzbuzz\");\n",
    "    } else if n % 3 == 0 {\n",
    "        println!(\"fizz\");\n",
    "    } else if n % 5 == 0 {\n",
    "        println!(\"buzz\");\n",
    "    } else {\n",
    "        println!(\"{}\", n);\n",
    "    }\n",
    "}"
   ]
  },
  {
   "cell_type": "markdown",
   "metadata": {},
   "source": [
    "Alternatively, a..=b can be used for a range that is inclusive on both ends. The above can be written as:"
   ]
  },
  {
   "cell_type": "code",
   "execution_count": 88,
   "metadata": {},
   "outputs": [
    {
     "name": "stdout",
     "output_type": "stream",
     "text": [
      "1\n",
      "2\n",
      "fizz\n",
      "4\n",
      "buzz\n",
      "fizz\n",
      "7\n",
      "8\n",
      "fizz\n",
      "buzz\n",
      "11\n",
      "fizz\n",
      "13\n",
      "14\n",
      "fizzbuzz\n",
      "16\n",
      "17\n",
      "fizz\n",
      "19\n",
      "buzz\n",
      "fizz\n",
      "22\n",
      "23\n",
      "fizz\n",
      "buzz\n",
      "26\n",
      "fizz\n",
      "28\n",
      "29\n",
      "fizzbuzz\n",
      "31\n",
      "32\n",
      "fizz\n",
      "34\n",
      "buzz\n",
      "fizz\n",
      "37\n",
      "38\n",
      "fizz\n",
      "buzz\n",
      "41\n",
      "fizz\n",
      "43\n",
      "44\n",
      "fizzbuzz\n",
      "46\n",
      "47\n",
      "fizz\n",
      "49\n",
      "buzz\n",
      "fizz\n",
      "52\n",
      "53\n",
      "fizz\n",
      "buzz\n",
      "56\n",
      "fizz\n",
      "58\n",
      "59\n",
      "fizzbuzz\n",
      "61\n",
      "62\n",
      "fizz\n",
      "64\n",
      "buzz\n",
      "fizz\n",
      "67\n",
      "68\n",
      "fizz\n",
      "buzz\n",
      "71\n",
      "fizz\n",
      "73\n",
      "74\n",
      "fizzbuzz\n",
      "76\n",
      "77\n",
      "fizz\n",
      "79\n",
      "buzz\n",
      "fizz\n",
      "82\n",
      "83\n",
      "fizz\n",
      "buzz\n",
      "86\n",
      "fizz\n",
      "88\n",
      "89\n",
      "fizzbuzz\n"
     ]
    },
    {
     "data": {
      "text/plain": [
       "()"
      ]
     },
     "execution_count": 88,
     "metadata": {},
     "output_type": "execute_result"
    },
    {
     "name": "stdout",
     "output_type": "stream",
     "text": [
      "91\n",
      "92\n",
      "fizz\n",
      "94\n",
      "buzz\n",
      "fizz\n",
      "97\n",
      "98\n",
      "fizz\n",
      "buzz\n"
     ]
    }
   ],
   "source": [
    "// `n` will take the values: 1, 2, ..., 100 in each iteration\n",
    "for n in 1..=100 {\n",
    "    if n % 15 == 0 {\n",
    "        println!(\"fizzbuzz\");\n",
    "    } else if n % 3 == 0 {\n",
    "        println!(\"fizz\");\n",
    "    } else if n % 5 == 0 {\n",
    "        println!(\"buzz\");\n",
    "    } else {\n",
    "        println!(\"{}\", n);\n",
    "    }\n",
    "}"
   ]
  },
  {
   "cell_type": "markdown",
   "metadata": {},
   "source": [
    "### for and iterators\n",
    "\n",
    "The for in construct is able to interact with an Iterator in several ways. As discussed in the section on the Iterator trait, by default the for loop will apply the into_iter function to the collection. However, this is not the only means of converting collections into iterators.\n",
    "\n",
    "into_iter, iter and iter_mut all handle the conversion of a collection into an iterator in different ways, by providing different views on the data within.\n",
    "\n",
    "- **iter** - This borrows each element of the collection through each iteration. Thus leaving the collection untouched and available for reuse after the loop."
   ]
  },
  {
   "cell_type": "code",
   "execution_count": 89,
   "metadata": {},
   "outputs": [
    {
     "name": "stdout",
     "output_type": "stream",
     "text": [
      "Hello Bob\n",
      "Hello Frank\n",
      "There is a rustacean among us!\n"
     ]
    },
    {
     "data": {
      "text/plain": [
       "()"
      ]
     },
     "execution_count": 89,
     "metadata": {},
     "output_type": "execute_result"
    }
   ],
   "source": [
    "let names = vec![\"Bob\", \"Frank\", \"Ferris\"];\n",
    "\n",
    "for name in names.iter() {\n",
    "    match name {\n",
    "        &\"Ferris\" => println!(\"There is a rustacean among us!\"),\n",
    "        _ => println!(\"Hello {}\", name),\n",
    "    }\n",
    "}"
   ]
  },
  {
   "cell_type": "markdown",
   "metadata": {},
   "source": [
    "- **into_iter** - This consumes the collection so that on each iteration the exact data is provided. Once the collection has been consumed it is no longer available for reuse as it has been 'moved' within the loop."
   ]
  },
  {
   "cell_type": "code",
   "execution_count": 90,
   "metadata": {},
   "outputs": [
    {
     "name": "stdout",
     "output_type": "stream",
     "text": [
      "Hello Bob\n",
      "Hello Frank\n",
      "There is a rustacean among us!\n"
     ]
    },
    {
     "data": {
      "text/plain": [
       "()"
      ]
     },
     "execution_count": 90,
     "metadata": {},
     "output_type": "execute_result"
    }
   ],
   "source": [
    "let names = vec![\"Bob\", \"Frank\", \"Ferris\"];\n",
    "\n",
    "for name in names.into_iter() {\n",
    "    match name {\n",
    "        \"Ferris\" => println!(\"There is a rustacean among us!\"),\n",
    "        _ => println!(\"Hello {}\", name),\n",
    "    }\n",
    "}"
   ]
  },
  {
   "cell_type": "markdown",
   "metadata": {},
   "source": [
    "- **iter_mut** - This mutably borrows each element of the collection, allowing for the collection to be modified in place."
   ]
  },
  {
   "cell_type": "code",
   "execution_count": 92,
   "metadata": {},
   "outputs": [
    {
     "name": "stdout",
     "output_type": "stream",
     "text": [
      "names: [\"Hello\", \"Hello\", \"There is a rustacean among us!\"]\n"
     ]
    }
   ],
   "source": [
    "let mut names = vec![\"Bob\", \"Frank\", \"Ferris\"];\n",
    "\n",
    "for name in names.iter_mut() {\n",
    "    *name = match name {\n",
    "        &mut \"Ferris\" => \"There is a rustacean among us!\",\n",
    "        _ => \"Hello\",\n",
    "    }\n",
    "}\n",
    "\n",
    "println!(\"names: {:?}\", names);"
   ]
  },
  {
   "cell_type": "markdown",
   "metadata": {},
   "source": [
    "In the above snippets note the type of match branch, that is the key difference in the types of iteration. The difference in type then of course implies differing actions that are able to be performed."
   ]
  },
  {
   "cell_type": "markdown",
   "metadata": {},
   "source": [
    "### match\n",
    "Rust provides pattern matching via the match keyword, which can be used like a C switch."
   ]
  },
  {
   "cell_type": "code",
   "execution_count": 94,
   "metadata": {},
   "outputs": [
    {
     "name": "stdout",
     "output_type": "stream",
     "text": [
      "Tell me about 13\n",
      "A teen\n",
      "true -> 1\n"
     ]
    }
   ],
   "source": [
    "let number = 13;\n",
    "// TODO ^ Try different values for `number`\n",
    "\n",
    "println!(\"Tell me about {}\", number);\n",
    "match number {\n",
    "    // Match a single value\n",
    "    1 => println!(\"One!\"),\n",
    "    // Match several values\n",
    "    2 | 3 | 5 | 7 | 11 => println!(\"This is a prime\"),\n",
    "    // Match an inclusive range\n",
    "    13..=19 => println!(\"A teen\"),\n",
    "    // Handle the rest of cases\n",
    "    _ => println!(\"Ain't special\"),\n",
    "}\n",
    "\n",
    "let boolean = true;\n",
    "// Match is an expression too\n",
    "let binary = match boolean {\n",
    "    // The arms of a match must cover all the possible values\n",
    "    false => 0,\n",
    "    true => 1,\n",
    "    // TODO ^ Try commenting out one of these arms\n",
    "};\n",
    "\n",
    "println!(\"{} -> {}\", boolean, binary);"
   ]
  },
  {
   "cell_type": "markdown",
   "metadata": {},
   "source": [
    "#### Destructuring\n",
    "A match block can destructure items in a variety of ways.\n",
    "\n",
    "- Destructuring Tuples\n",
    "- Destructuring Enums\n",
    "- Destructuring Pointers\n",
    "- Destructuring Structures"
   ]
  },
  {
   "cell_type": "markdown",
   "metadata": {},
   "source": [
    "##### Destructuring tuples\n",
    "Tuples can be destructured in a match as follows:"
   ]
  },
  {
   "cell_type": "code",
   "execution_count": 95,
   "metadata": {},
   "outputs": [
    {
     "name": "stdout",
     "output_type": "stream",
     "text": [
      "Tell me about (0, -2, 3)\n",
      "First is `0`, `y` is -2, and `z` is 3\n"
     ]
    },
    {
     "data": {
      "text/plain": [
       "()"
      ]
     },
     "execution_count": 95,
     "metadata": {},
     "output_type": "execute_result"
    }
   ],
   "source": [
    "let triple = (0, -2, 3);\n",
    "// TODO ^ Try different values for `triple`\n",
    "\n",
    "println!(\"Tell me about {:?}\", triple);\n",
    "// Match can be used to destructure a tuple\n",
    "match triple {\n",
    "    // Destructure the second and third elements\n",
    "    (0, y, z) => println!(\"First is `0`, `y` is {:?}, and `z` is {:?}\", y, z),\n",
    "    (1, ..)  => println!(\"First is `1` and the rest doesn't matter\"),\n",
    "    // `..` can be the used ignore the rest of the tuple\n",
    "    _   => println!(\"It doesn't matter what they are\"),\n",
    "    // `_` means don't bind the value to a variable\n",
    "}"
   ]
  },
  {
   "cell_type": "markdown",
   "metadata": {},
   "source": [
    "##### Destructuring enums\n",
    "An enum is destructured similarly:"
   ]
  },
  {
   "cell_type": "code",
   "execution_count": 96,
   "metadata": {},
   "outputs": [
    {
     "name": "stdout",
     "output_type": "stream",
     "text": [
      "What color is it?\n",
      "Red: 122, green: 17, and blue: 40!\n"
     ]
    },
    {
     "data": {
      "text/plain": [
       "()"
      ]
     },
     "execution_count": 96,
     "metadata": {},
     "output_type": "execute_result"
    }
   ],
   "source": [
    "enum Color {\n",
    "    // These 3 are specified solely by their name.\n",
    "    Red,\n",
    "    Blue,\n",
    "    Green,\n",
    "    // These likewise tie `u32` tuples to different names: color models.\n",
    "    RGB(u32, u32, u32),\n",
    "    HSV(u32, u32, u32),\n",
    "    HSL(u32, u32, u32),\n",
    "    CMY(u32, u32, u32),\n",
    "    CMYK(u32, u32, u32, u32),\n",
    "}\n",
    "\n",
    "let color = Color::RGB(122, 17, 40);\n",
    "// TODO ^ Try different variants for `color`\n",
    "\n",
    "println!(\"What color is it?\");\n",
    "// An `enum` can be destructured using a `match`.\n",
    "match color {\n",
    "    Color::Red   => println!(\"The color is Red!\"),\n",
    "    Color::Blue  => println!(\"The color is Blue!\"),\n",
    "    Color::Green => println!(\"The color is Green!\"),\n",
    "    Color::RGB(r, g, b) =>\n",
    "        println!(\"Red: {}, green: {}, and blue: {}!\", r, g, b),\n",
    "    Color::HSV(h, s, v) =>\n",
    "        println!(\"Hue: {}, saturation: {}, value: {}!\", h, s, v),\n",
    "    Color::HSL(h, s, l) =>\n",
    "        println!(\"Hue: {}, saturation: {}, lightness: {}!\", h, s, l),\n",
    "    Color::CMY(c, m, y) =>\n",
    "        println!(\"Cyan: {}, magenta: {}, yellow: {}!\", c, m, y),\n",
    "    Color::CMYK(c, m, y, k) =>\n",
    "        println!(\"Cyan: {}, magenta: {}, yellow: {}, key (black): {}!\",\n",
    "            c, m, y, k),\n",
    "    // Don't need another arm because all variants have been examined\n",
    "}"
   ]
  },
  {
   "cell_type": "markdown",
   "metadata": {},
   "source": [
    "##### Destructuring pointers/ref\n",
    "For pointers, a distinction needs to be made between destructuring and dereferencing as they are different concepts which are used differently from a language like C.\n",
    "\n",
    "- Dereferencing uses *\n",
    "- Destructuring uses &, ref, and ref mut"
   ]
  },
  {
   "cell_type": "code",
   "execution_count": 98,
   "metadata": {},
   "outputs": [
    {
     "name": "stdout",
     "output_type": "stream",
     "text": [
      "Got a value via destructuring: 4\n",
      "Got a value via dereferencing: 4\n",
      "Got a reference to a value: 5\n",
      "We added 10. `mut_value`: 16\n"
     ]
    },
    {
     "data": {
      "text/plain": [
       "()"
      ]
     },
     "execution_count": 98,
     "metadata": {},
     "output_type": "execute_result"
    }
   ],
   "source": [
    "// Assign a reference of type `i32`. The `&` signifies there\n",
    "// is a reference being assigned.\n",
    "let reference = &4;\n",
    "\n",
    "match reference {\n",
    "    // If `reference` is pattern matched against `&val`, it results\n",
    "    // in a comparison like:\n",
    "    // `&i32`\n",
    "    // `&val`\n",
    "    // ^ We see that if the matching `&`s are dropped, then the `i32`\n",
    "    // should be assigned to `val`.\n",
    "    &val => println!(\"Got a value via destructuring: {:?}\", val),\n",
    "}\n",
    "\n",
    "// To avoid the `&`, you dereference before matching.\n",
    "match *reference {\n",
    "    val => println!(\"Got a value via dereferencing: {:?}\", val),\n",
    "}\n",
    "\n",
    "// What if you don't start with a reference? `reference` was a `&`\n",
    "// because the right side was already a reference. This is not\n",
    "// a reference because the right side is not one.\n",
    "let _not_a_reference = 3;\n",
    "\n",
    "// Rust provides `ref` for exactly this purpose. It modifies the\n",
    "// assignment so that a reference is created for the element; this\n",
    "// reference is assigned.\n",
    "let ref _is_a_reference = 3;\n",
    "\n",
    "// Accordingly, by defining 2 values without references, references\n",
    "// can be retrieved via `ref` and `ref mut`.\n",
    "let value = 5;\n",
    "let mut mut_value = 6;\n",
    "\n",
    "// Use `ref` keyword to create a reference.\n",
    "match value {\n",
    "    ref r => println!(\"Got a reference to a value: {:?}\", r),\n",
    "}\n",
    "\n",
    "// Use `ref mut` similarly.\n",
    "match mut_value {\n",
    "    ref mut m => {\n",
    "        // Got a reference. Gotta dereference it before we can\n",
    "        // add anything to it.\n",
    "        *m += 10;\n",
    "        println!(\"We added 10. `mut_value`: {:?}\", m);\n",
    "    },\n",
    "}"
   ]
  },
  {
   "cell_type": "markdown",
   "metadata": {},
   "source": [
    "##### Destructuring structs\n",
    "Similarly, a struct can be destructured as shown:"
   ]
  },
  {
   "cell_type": "code",
   "execution_count": 100,
   "metadata": {},
   "outputs": [
    {
     "name": "stdout",
     "output_type": "stream",
     "text": [
      "First of x is 1, b = 2,  y = 3 \n"
     ]
    },
    {
     "data": {
      "text/plain": [
       "()"
      ]
     },
     "execution_count": 100,
     "metadata": {},
     "output_type": "execute_result"
    }
   ],
   "source": [
    "struct Foo {\n",
    "    x: (u32, u32),\n",
    "    y: u32,\n",
    "}\n",
    "\n",
    "// Try changing the values in the struct to see what happens\n",
    "let foo = Foo { x: (1, 2), y: 3 };\n",
    "\n",
    "match foo {\n",
    "    Foo { x: (1, b), y } => println!(\"First of x is 1, b = {},  y = {} \", b, y),\n",
    "\n",
    "    // you can destructure structs and rename the variables,\n",
    "    // the order is not important\n",
    "    Foo { y: 2, x: i } => println!(\"y is 2, i = {:?}\", i),\n",
    "\n",
    "    // and you can also ignore some variables:\n",
    "    Foo { y, .. } => println!(\"y = {}, we don't care about x\", y),\n",
    "    // this will give an error: pattern does not mention field `x`\n",
    "    //Foo { y } => println!(\"y = {}\", y),\n",
    "}"
   ]
  },
  {
   "cell_type": "markdown",
   "metadata": {},
   "source": [
    "#### Guards\n",
    "A match guard can be added to filter the arm."
   ]
  },
  {
   "cell_type": "code",
   "execution_count": 102,
   "metadata": {},
   "outputs": [
    {
     "name": "stdout",
     "output_type": "stream",
     "text": [
      "Tell me about (2, -2)\n",
      "Antimatter, kaboom!\n"
     ]
    },
    {
     "data": {
      "text/plain": [
       "()"
      ]
     },
     "execution_count": 102,
     "metadata": {},
     "output_type": "execute_result"
    }
   ],
   "source": [
    "let pair = (2, -2);\n",
    "// TODO ^ Try different values for `pair`\n",
    "\n",
    "println!(\"Tell me about {:?}\", pair);\n",
    "match pair {\n",
    "    (x, y) if x == y => println!(\"These are twins\"),\n",
    "    // The ^ `if condition` part is a guard\n",
    "    (x, y) if x + y == 0 => println!(\"Antimatter, kaboom!\"),\n",
    "    (x, _) if x % 2 == 1 => println!(\"The first one is odd\"),\n",
    "    _ => println!(\"No correlation...\"),\n",
    "}"
   ]
  },
  {
   "cell_type": "markdown",
   "metadata": {},
   "source": [
    "### if let\n",
    "For some use cases, when matching enums, match is awkward. For example:"
   ]
  },
  {
   "cell_type": "code",
   "execution_count": 107,
   "metadata": {},
   "outputs": [
    {
     "name": "stdout",
     "output_type": "stream",
     "text": [
      "This is a really long string and `7`\n"
     ]
    }
   ],
   "source": [
    "// Make `optional` of type `Option<i32>`\n",
    "let optional = Some(7);\n",
    "\n",
    "match optional {\n",
    "    Some(i) => {\n",
    "        println!(\"This is a really long string and `{:?}`\", i);\n",
    "        // ^ Needed 2 indentations just so we could destructure\n",
    "        // `i` from the option.\n",
    "    },\n",
    "    _ => {},\n",
    "    // ^ Required because `match` is exhaustive. Doesn't it seem\n",
    "    // like wasted space?\n",
    "};\n"
   ]
  },
  {
   "cell_type": "markdown",
   "metadata": {},
   "source": [
    "if let is cleaner for this use case and in addition allows various failure options to be specified:"
   ]
  },
  {
   "cell_type": "code",
   "execution_count": 108,
   "metadata": {},
   "outputs": [
    {
     "name": "stdout",
     "output_type": "stream",
     "text": [
      "Matched 7!\n",
      "Didn't match a number. Let's go with a letter!\n",
      "I don't like letters. Let's go with an emoticon :)!\n"
     ]
    },
    {
     "data": {
      "text/plain": [
       "()"
      ]
     },
     "execution_count": 108,
     "metadata": {},
     "output_type": "execute_result"
    }
   ],
   "source": [
    "// All have type `Option<i32>`\n",
    "let number = Some(7);\n",
    "let letter: Option<i32> = None;\n",
    "let emoticon: Option<i32> = None;\n",
    "\n",
    "// The `if let` construct reads: \"if `let` destructures `number` into\n",
    "// `Some(i)`, evaluate the block (`{}`).\n",
    "if let Some(i) = number {\n",
    "    println!(\"Matched {:?}!\", i);\n",
    "}\n",
    "\n",
    "// If you need to specify a failure, use an else:\n",
    "if let Some(i) = letter {\n",
    "    println!(\"Matched {:?}!\", i);\n",
    "} else {\n",
    "    // Destructure failed. Change to the failure case.\n",
    "    println!(\"Didn't match a number. Let's go with a letter!\");\n",
    "}\n",
    "\n",
    "// Provide an altered failing condition.\n",
    "let i_like_letters = false;\n",
    "\n",
    "if let Some(i) = emoticon {\n",
    "    println!(\"Matched {:?}!\", i);\n",
    "    // Destructure failed. Evaluate an `else if` condition to see if the\n",
    "    // alternate failure branch should be taken:\n",
    "} else if i_like_letters {\n",
    "    println!(\"Didn't match a number. Let's go with a letter!\");\n",
    "} else {\n",
    "    // The condition evaluated false. This branch is the default:\n",
    "    println!(\"I don't like letters. Let's go with an emoticon :)!\");\n",
    "}"
   ]
  },
  {
   "cell_type": "markdown",
   "metadata": {},
   "source": [
    "In the same way, if let can be used to match any enum value:"
   ]
  },
  {
   "cell_type": "code",
   "execution_count": 109,
   "metadata": {},
   "outputs": [
    {
     "name": "stderr",
     "output_type": "stream",
     "text": [
      "The type of the variable foo was redefined, so was lost.\n"
     ]
    },
    {
     "name": "stdout",
     "output_type": "stream",
     "text": [
      "a is foobar\n",
      "c is 100\n",
      "c is one hundred\n"
     ]
    },
    {
     "data": {
      "text/plain": [
       "()"
      ]
     },
     "execution_count": 109,
     "metadata": {},
     "output_type": "execute_result"
    }
   ],
   "source": [
    "// Our example enum\n",
    "enum Foo {\n",
    "    Bar,\n",
    "    Baz,\n",
    "    Qux(u32)\n",
    "}\n",
    "\n",
    "\n",
    "// Create example variables\n",
    "let a = Foo::Bar;\n",
    "let b = Foo::Baz;\n",
    "let c = Foo::Qux(100);\n",
    "    \n",
    "// Variable a matches Foo::Bar\n",
    "if let Foo::Bar = a {\n",
    "    println!(\"a is foobar\");\n",
    "}\n",
    "    \n",
    "// Variable b does not match Foo::Bar\n",
    "// So this will print nothing\n",
    "if let Foo::Bar = b {\n",
    "    println!(\"b is foobar\");\n",
    "}\n",
    "    \n",
    "// Variable c matches Foo::Qux which has a value\n",
    "// Similar to Some() in the previous example\n",
    "if let Foo::Qux(value) = c {\n",
    "    println!(\"c is {}\", value);\n",
    "}\n",
    "\n",
    "// Binding also works with `if let`\n",
    "if let Foo::Qux(value @ 100) = c {\n",
    "    println!(\"c is one hundred\");\n",
    "}"
   ]
  },
  {
   "cell_type": "markdown",
   "metadata": {},
   "source": [
    "Another benefit is that if let allows us to match non-parameterized enum variants. This is true even in cases where the enum doesn't implement or derive PartialEq. In such cases if Foo::Bar == a would fail to compile, because instances of the enum cannot be equated, however if let will continue to work.\n",
    "\n",
    "Would you like a challenge? Fix the following example to use if let:"
   ]
  },
  {
   "cell_type": "code",
   "execution_count": 112,
   "metadata": {},
   "outputs": [
    {
     "ename": "Error",
     "evalue": "type `u64_t` should have an upper camel case name",
     "output_type": "error",
     "traceback": [
      "type u64_t = u64;",
      "     ^^^^^ ",
      "type `u64_t` should have an upper camel case name"
     ]
    },
    {
     "ename": "Error",
     "evalue": "binary operation `==` cannot be applied to type `Foo`",
     "output_type": "error",
     "traceback": [
      "if Foo::Bar == a {",
      "   ^^^^^^^^ Foo",
      "if Foo::Bar == a {",
      "               ^ Foo",
      "if Foo::Bar == a {",
      "            ^^ ",
      "binary operation `==` cannot be applied to type `Foo`"
     ]
    }
   ],
   "source": [
    "// This enum purposely neither implements nor derives PartialEq.\n",
    "// That is why comparing Foo::Bar == a fails below.\n",
    "enum Foo {Bar}\n",
    "\n",
    "let a = Foo::Bar;\n",
    "\n",
    "// Variable a matches Foo::Bar\n",
    "if Foo::Bar == a {\n",
    "// ^-- this causes a compile-time error. Use `if let` instead.\n",
    "    println!(\"a is foobar\");\n",
    "}"
   ]
  },
  {
   "cell_type": "markdown",
   "metadata": {},
   "source": [
    "### while let\n",
    "Similar to if let, while let can make awkward match sequences more tolerable. Consider the following sequence that increments i:"
   ]
  },
  {
   "cell_type": "code",
   "execution_count": 113,
   "metadata": {},
   "outputs": [
    {
     "name": "stdout",
     "output_type": "stream",
     "text": [
      "`i` is `0`. Try again.\n",
      "`i` is `1`. Try again.\n",
      "`i` is `2`. Try again.\n",
      "`i` is `3`. Try again.\n",
      "`i` is `4`. Try again.\n",
      "`i` is `5`. Try again.\n",
      "`i` is `6`. Try again.\n",
      "`i` is `7`. Try again.\n",
      "`i` is `8`. Try again.\n",
      "`i` is `9`. Try again.\n",
      "Greater than 9, quit!\n"
     ]
    },
    {
     "data": {
      "text/plain": [
       "()"
      ]
     },
     "execution_count": 113,
     "metadata": {},
     "output_type": "execute_result"
    }
   ],
   "source": [
    "// Make `optional` of type `Option<i32>`\n",
    "let mut optional = Some(0);\n",
    "\n",
    "// Repeatedly try this test.\n",
    "loop {\n",
    "    match optional {\n",
    "        // If `optional` destructures, evaluate the block.\n",
    "        Some(i) => {\n",
    "            if i > 9 {\n",
    "                println!(\"Greater than 9, quit!\");\n",
    "                optional = None;\n",
    "            } else {\n",
    "                println!(\"`i` is `{:?}`. Try again.\", i);\n",
    "                optional = Some(i + 1);\n",
    "            }\n",
    "            // ^ Requires 3 indentations!\n",
    "        },\n",
    "        // Quit the loop when the destructure fails:\n",
    "        _ => { break; }\n",
    "        // ^ Why should this be required? There must be a better way!\n",
    "    }\n",
    "}"
   ]
  },
  {
   "cell_type": "markdown",
   "metadata": {},
   "source": [
    "Using while let makes this sequence much nicer:"
   ]
  },
  {
   "cell_type": "code",
   "execution_count": 114,
   "metadata": {},
   "outputs": [
    {
     "name": "stdout",
     "output_type": "stream",
     "text": [
      "`i` is `0`. Try again.\n",
      "`i` is `1`. Try again.\n",
      "`i` is `2`. Try again.\n",
      "`i` is `3`. Try again.\n",
      "`i` is `4`. Try again.\n",
      "`i` is `5`. Try again.\n",
      "`i` is `6`. Try again.\n",
      "`i` is `7`. Try again.\n",
      "`i` is `8`. Try again.\n",
      "`i` is `9`. Try again.\n",
      "Greater than 9, quit!\n"
     ]
    }
   ],
   "source": [
    "// Make `optional` of type `Option<i32>`\n",
    "let mut optional = Some(0);\n",
    "\n",
    "// This reads: \"while `let` destructures `optional` into\n",
    "// `Some(i)`, evaluate the block (`{}`). Else `break`.\n",
    "while let Some(i) = optional {\n",
    "    if i > 9 {\n",
    "        println!(\"Greater than 9, quit!\");\n",
    "        optional = None;\n",
    "    } else {\n",
    "        println!(\"`i` is `{:?}`. Try again.\", i);\n",
    "        optional = Some(i + 1);\n",
    "    }\n",
    "    // ^ Less rightward drift and doesn't require\n",
    "    // explicitly handling the failing case.\n",
    "}\n",
    "// ^ `if let` had additional optional `else`/`else if`\n",
    "// clauses. `while let` does not have these."
   ]
  },
  {
   "cell_type": "code",
   "execution_count": null,
   "metadata": {},
   "outputs": [],
   "source": []
  }
 ],
 "metadata": {
  "kernelspec": {
   "display_name": "Rust",
   "language": "rust",
   "name": "rust"
  },
  "language_info": {
   "codemirror_mode": "rust",
   "file_extension": ".rs",
   "mimetype": "text/rust",
   "name": "Rust",
   "pygment_lexer": "rust",
   "version": ""
  }
 },
 "nbformat": 4,
 "nbformat_minor": 4
}
